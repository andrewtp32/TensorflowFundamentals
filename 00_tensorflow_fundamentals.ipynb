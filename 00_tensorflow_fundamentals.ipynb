{
 "cells": [
  {
   "cell_type": "markdown",
   "id": "6ec5a53f",
   "metadata": {},
   "source": [
    "# In this notebook we are going to cover the most fundamental concepts of tensors using tensorflow"
   ]
  },
  {
   "cell_type": "markdown",
   "id": "56b658ce",
   "metadata": {},
   "source": [
    "## More specfifically, we're going to cover:\n",
    "    1) Introduction to tensors\n",
    "    2) Getting information from tensors\n",
    "    3) manipulating tensors\n",
    "    4) Tensors & NumPy\n",
    "    5) using @tf.function (a way to speed up your python functions)\n",
    "    6) Using GPUs with TensorFlow (or TPUs)\n",
    "    7) Exercises to try yourself!"
   ]
  },
  {
   "cell_type": "markdown",
   "id": "d27455b8",
   "metadata": {},
   "source": [
    "## Introduction to Tensors"
   ]
  },
  {
   "cell_type": "code",
   "execution_count": 15,
   "id": "c0701f9e",
   "metadata": {
    "scrolled": false
   },
   "outputs": [
    {
     "name": "stdout",
     "output_type": "stream",
     "text": [
      "2.10.1\n"
     ]
    }
   ],
   "source": [
    "# Import TensorFLow\n",
    "import tensorflow as tf \n",
    "print(tf.__version__)"
   ]
  },
  {
   "cell_type": "code",
   "execution_count": 16,
   "id": "d2816d71",
   "metadata": {},
   "outputs": [
    {
     "name": "stdout",
     "output_type": "stream",
     "text": [
      "1.21.1\n"
     ]
    }
   ],
   "source": [
    "# import numpy \n",
    "import numpy as np\n",
    "print(np.__version__)"
   ]
  },
  {
   "cell_type": "code",
   "execution_count": 17,
   "id": "831565de",
   "metadata": {},
   "outputs": [
    {
     "name": "stdout",
     "output_type": "stream",
     "text": [
      "tf.Tensor(7, shape=(), dtype=int32)\n"
     ]
    }
   ],
   "source": [
    "# Create tensors with tf.constant()\n",
    "scalar = tf.constant(7)\n",
    "print(scalar)"
   ]
  },
  {
   "cell_type": "code",
   "execution_count": 18,
   "id": "8ca75691",
   "metadata": {},
   "outputs": [
    {
     "data": {
      "text/plain": [
       "0"
      ]
     },
     "execution_count": 18,
     "metadata": {},
     "output_type": "execute_result"
    }
   ],
   "source": [
    "# Check the number of dimensions of a tensor (ndim stands for number of dimentions)\n",
    "scalar.ndim"
   ]
  },
  {
   "cell_type": "code",
   "execution_count": 19,
   "id": "089b7d4f",
   "metadata": {},
   "outputs": [
    {
     "name": "stdout",
     "output_type": "stream",
     "text": [
      "tf.Tensor([10 10], shape=(2,), dtype=int32)\n"
     ]
    }
   ],
   "source": [
    "# Create a vector \n",
    "vector = tf.constant([10,10])\n",
    "print(vector)"
   ]
  },
  {
   "cell_type": "code",
   "execution_count": 20,
   "id": "07816970",
   "metadata": {},
   "outputs": [
    {
     "name": "stdout",
     "output_type": "stream",
     "text": [
      "1\n"
     ]
    }
   ],
   "source": [
    "# Check the dimention of our vector\n",
    "print(vector.ndim)"
   ]
  },
  {
   "cell_type": "code",
   "execution_count": 21,
   "id": "f7dfc03b",
   "metadata": {},
   "outputs": [
    {
     "name": "stdout",
     "output_type": "stream",
     "text": [
      "tf.Tensor(\n",
      "[[10  7]\n",
      " [ 7 10]], shape=(2, 2), dtype=int32)\n"
     ]
    }
   ],
   "source": [
    "# Create a matrix (has more than 1 dimention)\n",
    "matrix = tf.constant([[10,7],\n",
    "                      [7, 10]])\n",
    "print(matrix)"
   ]
  },
  {
   "cell_type": "code",
   "execution_count": 22,
   "id": "0c424246",
   "metadata": {},
   "outputs": [
    {
     "name": "stdout",
     "output_type": "stream",
     "text": [
      "2\n"
     ]
    }
   ],
   "source": [
    "# Check dimention of matrix\n",
    "print(matrix.ndim)"
   ]
  },
  {
   "cell_type": "code",
   "execution_count": 23,
   "id": "1f7d6744",
   "metadata": {},
   "outputs": [
    {
     "name": "stdout",
     "output_type": "stream",
     "text": [
      "tf.Tensor(\n",
      "[[10.  7.]\n",
      " [ 7. 10.]\n",
      " [ 8.  9.]], shape=(3, 2), dtype=float16)\n"
     ]
    }
   ],
   "source": [
    "# Create another matrix with shorter memory\n",
    "another_matrix = tf.constant([[10., 7.], \n",
    "                              [7., 10.], \n",
    "                              [8., 9.]], dtype=tf.float16) # specify the data type with dtype parameter\n",
    "print(another_matrix) # notice dtype"
   ]
  },
  {
   "cell_type": "code",
   "execution_count": 24,
   "id": "3d52284c",
   "metadata": {},
   "outputs": [
    {
     "name": "stdout",
     "output_type": "stream",
     "text": [
      "2\n"
     ]
    }
   ],
   "source": [
    "# Number of dimention of \"another_matrix\"\n",
    "print(another_matrix.ndim)"
   ]
  },
  {
   "cell_type": "code",
   "execution_count": 25,
   "id": "494dec4d",
   "metadata": {},
   "outputs": [
    {
     "name": "stdout",
     "output_type": "stream",
     "text": [
      "tf.Tensor(\n",
      "[[[ 1  2  3]\n",
      "  [ 4  5  6]]\n",
      "\n",
      " [[ 7  8  9]\n",
      "  [10 11 12]]\n",
      "\n",
      " [[13 14 15]\n",
      "  [16 17 18]]], shape=(3, 2, 3), dtype=int32)\n"
     ]
    }
   ],
   "source": [
    "# Let's create a tensor\n",
    "tensor = tf.constant([[[1, 2, 3],\n",
    "                       [4, 5, 6]],\n",
    "                      [[7, 8, 9], \n",
    "                       [10, 11, 12]], \n",
    "                      [[13, 14, 15],\n",
    "                       [16, 17, 18]]])\n",
    "print(tensor)"
   ]
  },
  {
   "cell_type": "code",
   "execution_count": 26,
   "id": "f4ecc933",
   "metadata": {},
   "outputs": [
    {
     "name": "stdout",
     "output_type": "stream",
     "text": [
      "3\n"
     ]
    }
   ],
   "source": [
    "# Check the dimentions of the tensor\n",
    "print(tensor.ndim)"
   ]
  },
  {
   "cell_type": "markdown",
   "id": "fec17f0e",
   "metadata": {},
   "source": [
    "# What we've created so far:\n",
    "* Scalar: a signle number\n",
    "* Vector: a number with direction (e.g. wind speed and direction)\n",
    "* Matrix: a two-dimentional array of numbers\n",
    "* Tensor: an n-dimentional array of numbers (where n can be any number, a 0-dimentional tensor is a scalar, a 1-dimentional tensor is a vector)"
   ]
  },
  {
   "cell_type": "markdown",
   "id": "762c29ef",
   "metadata": {},
   "source": [
    "### Creating tensors with `tf.Variable`"
   ]
  },
  {
   "cell_type": "code",
   "execution_count": 27,
   "id": "8e779947",
   "metadata": {},
   "outputs": [
    {
     "name": "stdout",
     "output_type": "stream",
     "text": [
      "<tf.Variable 'Variable:0' shape=(2,) dtype=int32, numpy=array([10,  7], dtype=int32)> tf.Tensor([10  7], shape=(2,), dtype=int32)\n"
     ]
    }
   ],
   "source": [
    "# Create the same tensor as above but with tf.Variable()\n",
    "changeable_tensor = tf.Variable([10, 7])\n",
    "unchangeable_tensor = tf.constant([10, 7])\n",
    "print(changeable_tensor, unchangeable_tensor)"
   ]
  },
  {
   "cell_type": "code",
   "execution_count": 29,
   "id": "ca37415f",
   "metadata": {
    "scrolled": true
   },
   "outputs": [
    {
     "ename": "TypeError",
     "evalue": "'ResourceVariable' object does not support item assignment",
     "output_type": "error",
     "traceback": [
      "\u001b[0;31m---------------------------------------------------------------------------\u001b[0m",
      "\u001b[0;31mTypeError\u001b[0m                                 Traceback (most recent call last)",
      "Cell \u001b[0;32mIn [29], line 2\u001b[0m\n\u001b[1;32m      1\u001b[0m \u001b[38;5;66;03m# Let's try to change one of the elements in our changeable tensor\u001b[39;00m\n\u001b[0;32m----> 2\u001b[0m \u001b[43mchangeable_tensor\u001b[49m\u001b[43m[\u001b[49m\u001b[38;5;241;43m0\u001b[39;49m\u001b[43m]\u001b[49m \u001b[38;5;241m=\u001b[39m \u001b[38;5;241m7\u001b[39m\n\u001b[1;32m      3\u001b[0m changeable_tensor\n",
      "\u001b[0;31mTypeError\u001b[0m: 'ResourceVariable' object does not support item assignment"
     ]
    }
   ],
   "source": [
    "# Let's try to change one of the elements in our changeable tensor\n",
    "changeable_tensor[0] = 7\n",
    "changeable_tensor"
   ]
  },
  {
   "cell_type": "code",
   "execution_count": 30,
   "id": "f3d06b68",
   "metadata": {},
   "outputs": [
    {
     "data": {
      "text/plain": [
       "<tf.Variable 'Variable:0' shape=(2,) dtype=int32, numpy=array([7, 7], dtype=int32)>"
      ]
     },
     "execution_count": 30,
     "metadata": {},
     "output_type": "execute_result"
    }
   ],
   "source": [
    "# How about we try .assign()\n",
    "changeable_tensor[0].assign(7)\n",
    "changeable_tensor"
   ]
  },
  {
   "cell_type": "code",
   "execution_count": 31,
   "id": "0de5717f",
   "metadata": {
    "scrolled": true
   },
   "outputs": [
    {
     "ename": "AttributeError",
     "evalue": "'tensorflow.python.framework.ops.EagerTensor' object has no attribute 'assign'",
     "output_type": "error",
     "traceback": [
      "\u001b[0;31m---------------------------------------------------------------------------\u001b[0m",
      "\u001b[0;31mAttributeError\u001b[0m                            Traceback (most recent call last)",
      "Cell \u001b[0;32mIn [31], line 2\u001b[0m\n\u001b[1;32m      1\u001b[0m \u001b[38;5;66;03m# Let's try to change our unchangeable_tensor\u001b[39;00m\n\u001b[0;32m----> 2\u001b[0m \u001b[43munchangeable_tensor\u001b[49m\u001b[43m[\u001b[49m\u001b[38;5;241;43m0\u001b[39;49m\u001b[43m]\u001b[49m\u001b[38;5;241;43m.\u001b[39;49m\u001b[43massign\u001b[49m(\u001b[38;5;241m7\u001b[39m)\n",
      "File \u001b[0;32m/Library/Frameworks/Python.framework/Versions/3.9/lib/python3.9/site-packages/tensorflow/python/framework/ops.py:446\u001b[0m, in \u001b[0;36mTensor.__getattr__\u001b[0;34m(self, name)\u001b[0m\n\u001b[1;32m    437\u001b[0m \u001b[38;5;28;01mif\u001b[39;00m name \u001b[38;5;129;01min\u001b[39;00m {\u001b[38;5;124m\"\u001b[39m\u001b[38;5;124mT\u001b[39m\u001b[38;5;124m\"\u001b[39m, \u001b[38;5;124m\"\u001b[39m\u001b[38;5;124mastype\u001b[39m\u001b[38;5;124m\"\u001b[39m, \u001b[38;5;124m\"\u001b[39m\u001b[38;5;124mravel\u001b[39m\u001b[38;5;124m\"\u001b[39m, \u001b[38;5;124m\"\u001b[39m\u001b[38;5;124mtranspose\u001b[39m\u001b[38;5;124m\"\u001b[39m, \u001b[38;5;124m\"\u001b[39m\u001b[38;5;124mreshape\u001b[39m\u001b[38;5;124m\"\u001b[39m, \u001b[38;5;124m\"\u001b[39m\u001b[38;5;124mclip\u001b[39m\u001b[38;5;124m\"\u001b[39m, \u001b[38;5;124m\"\u001b[39m\u001b[38;5;124msize\u001b[39m\u001b[38;5;124m\"\u001b[39m,\n\u001b[1;32m    438\u001b[0m             \u001b[38;5;124m\"\u001b[39m\u001b[38;5;124mtolist\u001b[39m\u001b[38;5;124m\"\u001b[39m, \u001b[38;5;124m\"\u001b[39m\u001b[38;5;124mdata\u001b[39m\u001b[38;5;124m\"\u001b[39m}:\n\u001b[1;32m    439\u001b[0m   \u001b[38;5;66;03m# TODO(wangpeng): Export the enable_numpy_behavior knob\u001b[39;00m\n\u001b[1;32m    440\u001b[0m   \u001b[38;5;28;01mraise\u001b[39;00m \u001b[38;5;167;01mAttributeError\u001b[39;00m(\n\u001b[1;32m    441\u001b[0m       \u001b[38;5;124mf\u001b[39m\u001b[38;5;124m\"\u001b[39m\u001b[38;5;132;01m{\u001b[39;00m\u001b[38;5;28mtype\u001b[39m(\u001b[38;5;28mself\u001b[39m)\u001b[38;5;241m.\u001b[39m\u001b[38;5;18m__name__\u001b[39m\u001b[38;5;132;01m}\u001b[39;00m\u001b[38;5;124m object has no attribute \u001b[39m\u001b[38;5;124m'\u001b[39m\u001b[38;5;132;01m{\u001b[39;00mname\u001b[38;5;132;01m}\u001b[39;00m\u001b[38;5;124m'\u001b[39m\u001b[38;5;124m. \u001b[39m\u001b[38;5;124m\"\u001b[39m \u001b[38;5;241m+\u001b[39m \u001b[38;5;124m\"\"\"\u001b[39m\n\u001b[1;32m    442\u001b[0m \u001b[38;5;124m    If you are looking for numpy-related methods, please run the following:\u001b[39m\n\u001b[1;32m    443\u001b[0m \u001b[38;5;124m    from tensorflow.python.ops.numpy_ops import np_config\u001b[39m\n\u001b[1;32m    444\u001b[0m \u001b[38;5;124m    np_config.enable_numpy_behavior()\u001b[39m\n\u001b[1;32m    445\u001b[0m \u001b[38;5;124m  \u001b[39m\u001b[38;5;124m\"\"\"\u001b[39m)\n\u001b[0;32m--> 446\u001b[0m \u001b[38;5;28;43mself\u001b[39;49m\u001b[38;5;241;43m.\u001b[39;49m\u001b[38;5;21;43m__getattribute__\u001b[39;49m\u001b[43m(\u001b[49m\u001b[43mname\u001b[49m\u001b[43m)\u001b[49m\n",
      "\u001b[0;31mAttributeError\u001b[0m: 'tensorflow.python.framework.ops.EagerTensor' object has no attribute 'assign'"
     ]
    }
   ],
   "source": [
    "# Let's try to change our unchangeable_tensor\n",
    "unchangeable_tensor[0].assign(7)"
   ]
  },
  {
   "cell_type": "markdown",
   "id": "6a33b604",
   "metadata": {},
   "source": [
    "**Note:** Rarely in practice will you need to decide whether the use `tf.constant` or `tf.Variable` to create tensors, as TensorFlow does this for you. However, if in doubt, use `tf.constant` and change it later if needed."
   ]
  },
  {
   "cell_type": "markdown",
   "id": "5ee56b63",
   "metadata": {},
   "source": [
    "### Creating Random Tensors\n",
    "Random tensors are tensors of some arbitrary size with random numbers."
   ]
  },
  {
   "cell_type": "code",
   "execution_count": 32,
   "id": "6118401b",
   "metadata": {},
   "outputs": [
    {
     "data": {
      "text/plain": [
       "(<tf.Tensor: shape=(3, 2), dtype=float32, numpy=\n",
       " array([[-1.3240396 ,  0.28785667],\n",
       "        [-0.8757901 , -0.08857018],\n",
       "        [ 0.69211644,  0.84215707]], dtype=float32)>,\n",
       " <tf.Tensor: shape=(3, 2), dtype=float32, numpy=\n",
       " array([[-1.3240396 ,  0.28785667],\n",
       "        [-0.8757901 , -0.08857018],\n",
       "        [ 0.69211644,  0.84215707]], dtype=float32)>,\n",
       " <tf.Tensor: shape=(3, 2), dtype=bool, numpy=\n",
       " array([[ True,  True],\n",
       "        [ True,  True],\n",
       "        [ True,  True]])>)"
      ]
     },
     "execution_count": 32,
     "metadata": {},
     "output_type": "execute_result"
    }
   ],
   "source": [
    "# Create two random (but the same) tensors\n",
    "# \"seed\" allows tensorflow to geneate random numbers using a ~flavor~, \"x\". Where \"x\" is the seed.\n",
    "random_1 = tf.random.Generator.from_seed(7) # set seed for reproducability\n",
    "random_1 = random_1.normal(shape=(3,2))\n",
    "random_2 = tf.random.Generator.from_seed(7)\n",
    "random_2 = random_2.normal(shape=(3,2))\n",
    "\n",
    "# Are they equal?\n",
    "random_1, random_2, random_1 == random_2"
   ]
  },
  {
   "cell_type": "markdown",
   "id": "ffe908ec",
   "metadata": {},
   "source": [
    "### Suffle the order of elements in a tensor\n",
    "This is useful for situations like image classifiication of ramen or spaghetti. Say you have 10k images and the first 8k images are of ramen. Your classifier will become biased to ramen because your dataset has not been randomized."
   ]
  },
  {
   "cell_type": "code",
   "execution_count": 33,
   "id": "98cb7466",
   "metadata": {},
   "outputs": [
    {
     "data": {
      "text/plain": [
       "<tf.Tensor: shape=(3, 2), dtype=int32, numpy=\n",
       "array([[10,  7],\n",
       "       [ 2,  5],\n",
       "       [ 3,  4]], dtype=int32)>"
      ]
     },
     "execution_count": 33,
     "metadata": {},
     "output_type": "execute_result"
    }
   ],
   "source": [
    "# Shuffle a tensor (valuable for when want to shuffle your data so the inherent order doesnt affect learning)\n",
    "not_shuffled = tf.constant([[10, 7],\n",
    "                            [3, 4],\n",
    "                            [2, 5]])\n",
    "# Shuffle our non-shuffled tensor\n",
    "tf.random.shuffle(not_shuffled)"
   ]
  },
  {
   "cell_type": "code",
   "execution_count": 34,
   "id": "97454a46",
   "metadata": {
    "scrolled": true
   },
   "outputs": [
    {
     "data": {
      "text/plain": [
       "<tf.Tensor: shape=(3, 2), dtype=int32, numpy=\n",
       "array([[10,  7],\n",
       "       [ 3,  4],\n",
       "       [ 2,  5]], dtype=int32)>"
      ]
     },
     "execution_count": 34,
     "metadata": {},
     "output_type": "execute_result"
    }
   ],
   "source": [
    "# Shuffle our non-shuffled tensor\n",
    "tf.random.set_seed(42) # global level seed\n",
    "tf.random.shuffle(not_shuffled, seed=42) # operational level seed"
   ]
  },
  {
   "cell_type": "markdown",
   "id": "2f1079a7",
   "metadata": {},
   "source": [
    "**Exersize:** Read through TensorFlow documentation on random seed generation: https://www.tensorflow.org/api_docs/python/tf/random/set_seed and practice writing 5 random tensors and shuffle them.\n",
    "\n",
    "It looks like if we want our shuffled tensors to be in th esame order, we've got to use the global level random seed as well as the operation level random seed.\n",
    "\n",
    "> Rule 4: \"If both the global and the operation seed are set: Both seeds are used in conjunction to determine the random sequence.\""
   ]
  },
  {
   "cell_type": "code",
   "execution_count": 35,
   "id": "606ba105",
   "metadata": {
    "scrolled": true
   },
   "outputs": [
    {
     "name": "stdout",
     "output_type": "stream",
     "text": [
      "tf.Tensor(\n",
      "[[10  7]\n",
      " [ 3  4]\n",
      " [ 2  5]], shape=(3, 2), dtype=int32)\n"
     ]
    }
   ],
   "source": [
    "# Here, we set a global seed. Now we do not get a new shuffle every time.\n",
    "tf.random.set_seed(42) # global level random seed\n",
    "print(tf.random.shuffle(not_shuffled, seed=42)) # operation level random seed"
   ]
  },
  {
   "cell_type": "markdown",
   "id": "9283b1f3",
   "metadata": {},
   "source": [
    "### Other ways to make tensors\n",
    "Very similar to numpy operators"
   ]
  },
  {
   "cell_type": "code",
   "execution_count": 36,
   "id": "cde77e91",
   "metadata": {},
   "outputs": [
    {
     "data": {
      "text/plain": [
       "<tf.Tensor: shape=(10, 7), dtype=float32, numpy=\n",
       "array([[1., 1., 1., 1., 1., 1., 1.],\n",
       "       [1., 1., 1., 1., 1., 1., 1.],\n",
       "       [1., 1., 1., 1., 1., 1., 1.],\n",
       "       [1., 1., 1., 1., 1., 1., 1.],\n",
       "       [1., 1., 1., 1., 1., 1., 1.],\n",
       "       [1., 1., 1., 1., 1., 1., 1.],\n",
       "       [1., 1., 1., 1., 1., 1., 1.],\n",
       "       [1., 1., 1., 1., 1., 1., 1.],\n",
       "       [1., 1., 1., 1., 1., 1., 1.],\n",
       "       [1., 1., 1., 1., 1., 1., 1.]], dtype=float32)>"
      ]
     },
     "execution_count": 36,
     "metadata": {},
     "output_type": "execute_result"
    }
   ],
   "source": [
    "# Create a tensor of all ones \n",
    "tf.ones([10, 7])"
   ]
  },
  {
   "cell_type": "code",
   "execution_count": 37,
   "id": "e59fb638",
   "metadata": {},
   "outputs": [
    {
     "data": {
      "text/plain": [
       "<tf.Tensor: shape=(3, 4), dtype=float32, numpy=\n",
       "array([[0., 0., 0., 0.],\n",
       "       [0., 0., 0., 0.],\n",
       "       [0., 0., 0., 0.]], dtype=float32)>"
      ]
     },
     "execution_count": 37,
     "metadata": {},
     "output_type": "execute_result"
    }
   ],
   "source": [
    "# Create a tensor of all zeros\n",
    "tf.zeros(shape=(3, 4))"
   ]
  },
  {
   "cell_type": "markdown",
   "id": "98daed50",
   "metadata": {},
   "source": [
    "### Turn numpy arrays into tensors\n",
    "The main difference betweeen TF tensors and NumPy arrays is that tensors can be ran on a GPU (much faster for numerical computing)."
   ]
  },
  {
   "cell_type": "code",
   "execution_count": 38,
   "id": "c8458463",
   "metadata": {},
   "outputs": [
    {
     "data": {
      "text/plain": [
       "array([ 1,  2,  3,  4,  5,  6,  7,  8,  9, 10, 11, 12, 13, 14, 15, 16, 17,\n",
       "       18, 19, 20, 21, 22, 23, 24], dtype=int32)"
      ]
     },
     "execution_count": 38,
     "metadata": {},
     "output_type": "execute_result"
    }
   ],
   "source": [
    "# You can also turn NumPy arrays into tensors\n",
    "import numpy as np\n",
    "numpy_A = np.arange(1, 25, dtype=np.int32) # create a Numpy array between 1 and 25\n",
    "numpy_A\n",
    "# X = tf.constant(some_matrix) # capital for matrix or tensor\n",
    "# y = tf.constant(vector) # non-capital for vector"
   ]
  },
  {
   "cell_type": "code",
   "execution_count": 39,
   "id": "059c1238",
   "metadata": {},
   "outputs": [
    {
     "data": {
      "text/plain": [
       "(<tf.Tensor: shape=(24,), dtype=int32, numpy=\n",
       " array([ 1,  2,  3,  4,  5,  6,  7,  8,  9, 10, 11, 12, 13, 14, 15, 16, 17,\n",
       "        18, 19, 20, 21, 22, 23, 24], dtype=int32)>,\n",
       " <tf.Tensor: shape=(3, 8), dtype=int32, numpy=\n",
       " array([[ 1,  2,  3,  4,  5,  6,  7,  8],\n",
       "        [ 9, 10, 11, 12, 13, 14, 15, 16],\n",
       "        [17, 18, 19, 20, 21, 22, 23, 24]], dtype=int32)>,\n",
       " <tf.Tensor: shape=(2, 3, 4), dtype=int32, numpy=\n",
       " array([[[ 1,  2,  3,  4],\n",
       "         [ 5,  6,  7,  8],\n",
       "         [ 9, 10, 11, 12]],\n",
       " \n",
       "        [[13, 14, 15, 16],\n",
       "         [17, 18, 19, 20],\n",
       "         [21, 22, 23, 24]]], dtype=int32)>)"
      ]
     },
     "execution_count": 39,
     "metadata": {},
     "output_type": "execute_result"
    }
   ],
   "source": [
    "# Turn any numpy array into a tensor by passing it through soemthing like tf.constant.\n",
    "# You can also arange the shape of the tensor\n",
    "A = tf.constant(numpy_A)\n",
    "B = tf.constant(numpy_A, shape=(3, 8))\n",
    "C = tf.constant(numpy_A, shape=(2, 3, 4))\n",
    "A, B, C"
   ]
  },
  {
   "cell_type": "markdown",
   "id": "f148740c",
   "metadata": {},
   "source": [
    "### Getting information from tensors\n",
    "When dealing with tensors, you probably want to be aware of the following attributes:\n",
    "* Shape - The length (number of elements) of each of the dimentions of a tensor\n",
    "* Rank - The number of tensor dimentions. A scalar has rank 0, a vector has rank 1, a matrix has rank 2, a tensor has rank n.\n",
    "* Axis or dimention - A particular dimention of a tensor.\n",
    "* Size - The total number of items in the the tensor."
   ]
  },
  {
   "cell_type": "code",
   "execution_count": 40,
   "id": "ced82c57",
   "metadata": {},
   "outputs": [
    {
     "data": {
      "text/plain": [
       "<tf.Tensor: shape=(2, 3, 4, 5), dtype=float32, numpy=\n",
       "array([[[[0., 0., 0., 0., 0.],\n",
       "         [0., 0., 0., 0., 0.],\n",
       "         [0., 0., 0., 0., 0.],\n",
       "         [0., 0., 0., 0., 0.]],\n",
       "\n",
       "        [[0., 0., 0., 0., 0.],\n",
       "         [0., 0., 0., 0., 0.],\n",
       "         [0., 0., 0., 0., 0.],\n",
       "         [0., 0., 0., 0., 0.]],\n",
       "\n",
       "        [[0., 0., 0., 0., 0.],\n",
       "         [0., 0., 0., 0., 0.],\n",
       "         [0., 0., 0., 0., 0.],\n",
       "         [0., 0., 0., 0., 0.]]],\n",
       "\n",
       "\n",
       "       [[[0., 0., 0., 0., 0.],\n",
       "         [0., 0., 0., 0., 0.],\n",
       "         [0., 0., 0., 0., 0.],\n",
       "         [0., 0., 0., 0., 0.]],\n",
       "\n",
       "        [[0., 0., 0., 0., 0.],\n",
       "         [0., 0., 0., 0., 0.],\n",
       "         [0., 0., 0., 0., 0.],\n",
       "         [0., 0., 0., 0., 0.]],\n",
       "\n",
       "        [[0., 0., 0., 0., 0.],\n",
       "         [0., 0., 0., 0., 0.],\n",
       "         [0., 0., 0., 0., 0.],\n",
       "         [0., 0., 0., 0., 0.]]]], dtype=float32)>"
      ]
     },
     "execution_count": 40,
     "metadata": {},
     "output_type": "execute_result"
    }
   ],
   "source": [
    "# Create a rank 4 tensor (4 dimentions)\n",
    "rank_4_tensor = tf.zeros(shape=(2, 3, 4, 5))\n",
    "rank_4_tensor"
   ]
  },
  {
   "cell_type": "code",
   "execution_count": 41,
   "id": "c2c13452",
   "metadata": {},
   "outputs": [
    {
     "data": {
      "text/plain": [
       "(TensorShape([2, 3, 4, 5]), 4, <tf.Tensor: shape=(), dtype=int32, numpy=120>)"
      ]
     },
     "execution_count": 41,
     "metadata": {},
     "output_type": "execute_result"
    }
   ],
   "source": [
    "rank_4_tensor.shape, rank_4_tensor.ndim, tf.size(rank_4_tensor)"
   ]
  },
  {
   "cell_type": "code",
   "execution_count": 42,
   "id": "0ccdbe5c",
   "metadata": {},
   "outputs": [
    {
     "data": {
      "text/plain": [
       "<tf.Tensor: shape=(3, 4, 5), dtype=float32, numpy=\n",
       "array([[[0., 0., 0., 0., 0.],\n",
       "        [0., 0., 0., 0., 0.],\n",
       "        [0., 0., 0., 0., 0.],\n",
       "        [0., 0., 0., 0., 0.]],\n",
       "\n",
       "       [[0., 0., 0., 0., 0.],\n",
       "        [0., 0., 0., 0., 0.],\n",
       "        [0., 0., 0., 0., 0.],\n",
       "        [0., 0., 0., 0., 0.]],\n",
       "\n",
       "       [[0., 0., 0., 0., 0.],\n",
       "        [0., 0., 0., 0., 0.],\n",
       "        [0., 0., 0., 0., 0.],\n",
       "        [0., 0., 0., 0., 0.]]], dtype=float32)>"
      ]
     },
     "execution_count": 42,
     "metadata": {},
     "output_type": "execute_result"
    }
   ],
   "source": [
    "rank_4_tensor[0]\n",
    "# notice the \"shape\" in the output"
   ]
  },
  {
   "cell_type": "code",
   "execution_count": 43,
   "id": "0d9531a5",
   "metadata": {},
   "outputs": [
    {
     "name": "stdout",
     "output_type": "stream",
     "text": [
      "Datatype of every element: <dtype: 'float32'>\n",
      "Number of dimentions (rank): 4\n",
      "Shape of the tensor: (2, 3, 4, 5)\n",
      "Elements along the 0 axis: 2\n",
      "Elements along the last axis: 5\n",
      "Total number of elements in our temsor: tf.Tensor(120, shape=(), dtype=int32)\n",
      "Total number of elements in our temsor: 120\n"
     ]
    }
   ],
   "source": [
    "# Get various attributes of our tensor\n",
    "print(\"Datatype of every element:\",rank_4_tensor.dtype)\n",
    "print(\"Number of dimentions (rank):\",rank_4_tensor.ndim)\n",
    "print(\"Shape of the tensor:\", rank_4_tensor.shape)\n",
    "print(\"Elements along the 0 axis:\", rank_4_tensor.shape[0])\n",
    "print(\"Elements along the last axis:\", rank_4_tensor.shape[-1])\n",
    "print(\"Total number of elements in our temsor:\", tf.size(rank_4_tensor)) # messier without the .numpy() at the end\n",
    "print(\"Total number of elements in our temsor:\", tf.size(rank_4_tensor).numpy())"
   ]
  },
  {
   "cell_type": "markdown",
   "id": "7befb21d",
   "metadata": {},
   "source": [
    "### Indexing tensors \n",
    "Tensors can be indexed just like Python lists."
   ]
  },
  {
   "cell_type": "code",
   "execution_count": 44,
   "id": "75d94863",
   "metadata": {},
   "outputs": [
    {
     "data": {
      "text/plain": [
       "<tf.Tensor: shape=(2, 2, 2, 2), dtype=float32, numpy=\n",
       "array([[[[0., 0.],\n",
       "         [0., 0.]],\n",
       "\n",
       "        [[0., 0.],\n",
       "         [0., 0.]]],\n",
       "\n",
       "\n",
       "       [[[0., 0.],\n",
       "         [0., 0.]],\n",
       "\n",
       "        [[0., 0.],\n",
       "         [0., 0.]]]], dtype=float32)>"
      ]
     },
     "execution_count": 44,
     "metadata": {},
     "output_type": "execute_result"
    }
   ],
   "source": [
    "# Get the first two elements of each diemention of rank_4_tensor\n",
    "\n",
    "rank_4_tensor[:2, :2, :2, :2]"
   ]
  },
  {
   "cell_type": "code",
   "execution_count": 45,
   "id": "b79f3e4e",
   "metadata": {},
   "outputs": [
    {
     "data": {
      "text/plain": [
       "<tf.Tensor: shape=(1, 1, 1, 5), dtype=float32, numpy=array([[[[0., 0., 0., 0., 0.]]]], dtype=float32)>"
      ]
     },
     "execution_count": 45,
     "metadata": {},
     "output_type": "execute_result"
    }
   ],
   "source": [
    "# Get the first element from each dimention from each index except for the final one\n",
    "rank_4_tensor[:1, :1, :1, :] # The lone colon gives you the entire index"
   ]
  },
  {
   "cell_type": "code",
   "execution_count": 46,
   "id": "c3a4e963",
   "metadata": {},
   "outputs": [
    {
     "data": {
      "text/plain": [
       "<tf.Tensor: shape=(1, 1, 4, 1), dtype=float32, numpy=\n",
       "array([[[[0.],\n",
       "         [0.],\n",
       "         [0.],\n",
       "         [0.]]]], dtype=float32)>"
      ]
     },
     "execution_count": 46,
     "metadata": {},
     "output_type": "execute_result"
    }
   ],
   "source": [
    "# Get the first element from each dimention from each index except for the 3rd one\n",
    "rank_4_tensor[:1, :1, :, :1]"
   ]
  },
  {
   "cell_type": "code",
   "execution_count": 47,
   "id": "96ece995",
   "metadata": {},
   "outputs": [
    {
     "data": {
      "text/plain": [
       "(<tf.Tensor: shape=(2, 2), dtype=int32, numpy=\n",
       " array([[10,  7],\n",
       "        [ 3,  4]], dtype=int32)>,\n",
       " 2)"
      ]
     },
     "execution_count": 47,
     "metadata": {},
     "output_type": "execute_result"
    }
   ],
   "source": [
    "# Create a rank 2 tensor (2 dimentions)\n",
    "rank_2_tensor = tf.constant([[10,7],\n",
    "                             [3, 4]])\n",
    "rank_2_tensor, rank_2_tensor.ndim"
   ]
  },
  {
   "cell_type": "code",
   "execution_count": 48,
   "id": "cf1b67f8",
   "metadata": {},
   "outputs": [
    {
     "data": {
      "text/plain": [
       "<tf.Tensor: shape=(2,), dtype=int32, numpy=array([7, 4], dtype=int32)>"
      ]
     },
     "execution_count": 48,
     "metadata": {},
     "output_type": "execute_result"
    }
   ],
   "source": [
    "# Get last item of each row of our rank 2 tensor\n",
    "rank_2_tensor[:, -1]"
   ]
  },
  {
   "cell_type": "code",
   "execution_count": 49,
   "id": "44a08423",
   "metadata": {},
   "outputs": [
    {
     "data": {
      "text/plain": [
       "<tf.Tensor: shape=(2, 2, 1), dtype=int32, numpy=\n",
       "array([[[10],\n",
       "        [ 7]],\n",
       "\n",
       "       [[ 3],\n",
       "        [ 4]]], dtype=int32)>"
      ]
     },
     "execution_count": 49,
     "metadata": {},
     "output_type": "execute_result"
    }
   ],
   "source": [
    "# Add in extra dimention to our rank 2 tensor\n",
    "rank_3_tensor = rank_2_tensor[..., tf.newaxis] # the three dots replace doing this: rank_2_tensor[:, :, tf.newaxis]\n",
    "rank_3_tensor"
   ]
  },
  {
   "cell_type": "code",
   "execution_count": 50,
   "id": "f6b56dee",
   "metadata": {},
   "outputs": [
    {
     "data": {
      "text/plain": [
       "<tf.Tensor: shape=(2, 2, 1), dtype=int32, numpy=\n",
       "array([[[10],\n",
       "        [ 7]],\n",
       "\n",
       "       [[ 3],\n",
       "        [ 4]]], dtype=int32)>"
      ]
     },
     "execution_count": 50,
     "metadata": {},
     "output_type": "execute_result"
    }
   ],
   "source": [
    "# Alternative to tf.newaxis\n",
    "tf.expand_dims(rank_2_tensor, axis=-1) # -1 means expand the final axis"
   ]
  },
  {
   "cell_type": "code",
   "execution_count": 51,
   "id": "551a5e92",
   "metadata": {},
   "outputs": [
    {
     "data": {
      "text/plain": [
       "<tf.Tensor: shape=(1, 2, 2), dtype=int32, numpy=\n",
       "array([[[10,  7],\n",
       "        [ 3,  4]]], dtype=int32)>"
      ]
     },
     "execution_count": 51,
     "metadata": {},
     "output_type": "execute_result"
    }
   ],
   "source": [
    "tf.expand_dims(rank_2_tensor, axis=0) # expand 0 axis"
   ]
  },
  {
   "cell_type": "markdown",
   "id": "d1cdbb27",
   "metadata": {},
   "source": [
    "### Manipulating Tensors (Tensor Operations)\n",
    "**Basic Operations**\n",
    "\n",
    "i.e. '+', '-', '*', '/'"
   ]
  },
  {
   "cell_type": "code",
   "execution_count": 52,
   "id": "b91ef412",
   "metadata": {},
   "outputs": [
    {
     "data": {
      "text/plain": [
       "<tf.Tensor: shape=(2, 2), dtype=int32, numpy=\n",
       "array([[20, 17],\n",
       "       [13, 14]], dtype=int32)>"
      ]
     },
     "execution_count": 52,
     "metadata": {},
     "output_type": "execute_result"
    }
   ],
   "source": [
    "# You can add values to a tensor using the addition operator\n",
    "tensor = tf.constant([[10, 7], \n",
    "                      [3, 4]])\n",
    "tensor + 10"
   ]
  },
  {
   "cell_type": "code",
   "execution_count": 53,
   "id": "5ee06dea",
   "metadata": {},
   "outputs": [
    {
     "data": {
      "text/plain": [
       "<tf.Tensor: shape=(2, 2), dtype=int32, numpy=\n",
       "array([[10,  7],\n",
       "       [ 3,  4]], dtype=int32)>"
      ]
     },
     "execution_count": 53,
     "metadata": {},
     "output_type": "execute_result"
    }
   ],
   "source": [
    "# Original tensor is unchanged...\n",
    "tensor"
   ]
  },
  {
   "cell_type": "code",
   "execution_count": 54,
   "id": "ee518839",
   "metadata": {},
   "outputs": [
    {
     "data": {
      "text/plain": [
       "<tf.Tensor: shape=(2, 2), dtype=int32, numpy=\n",
       "array([[20, 17],\n",
       "       [13, 14]], dtype=int32)>"
      ]
     },
     "execution_count": 54,
     "metadata": {},
     "output_type": "execute_result"
    }
   ],
   "source": [
    "# In order to permanently change the tensor you must do:\n",
    "tensor = tensor + 10\n",
    "tensor"
   ]
  },
  {
   "cell_type": "code",
   "execution_count": 55,
   "id": "a9ac35a8",
   "metadata": {
    "scrolled": true
   },
   "outputs": [
    {
     "data": {
      "text/plain": [
       "<tf.Tensor: shape=(2, 2), dtype=int32, numpy=\n",
       "array([[10,  7],\n",
       "       [ 3,  4]], dtype=int32)>"
      ]
     },
     "execution_count": 55,
     "metadata": {},
     "output_type": "execute_result"
    }
   ],
   "source": [
    "# Subtraction works the same way\n",
    "tensor - 10"
   ]
  },
  {
   "cell_type": "code",
   "execution_count": 56,
   "id": "9d58d8b5",
   "metadata": {
    "scrolled": true
   },
   "outputs": [
    {
     "data": {
      "text/plain": [
       "<tf.Tensor: shape=(2, 2), dtype=int32, numpy=\n",
       "array([[200, 170],\n",
       "       [130, 140]], dtype=int32)>"
      ]
     },
     "execution_count": 56,
     "metadata": {},
     "output_type": "execute_result"
    }
   ],
   "source": [
    "# We can use the tf function as well. Using the tf functions will use your GPU and the calculation will be must quicker\n",
    "tf.math.multiply(tensor, 10)"
   ]
  },
  {
   "cell_type": "code",
   "execution_count": 57,
   "id": "e7edf49e",
   "metadata": {},
   "outputs": [
    {
     "data": {
      "text/plain": [
       "<tf.Tensor: shape=(2, 2), dtype=int32, numpy=\n",
       "array([[20, 17],\n",
       "       [13, 14]], dtype=int32)>"
      ]
     },
     "execution_count": 57,
     "metadata": {},
     "output_type": "execute_result"
    }
   ],
   "source": [
    "tensor"
   ]
  },
  {
   "cell_type": "markdown",
   "id": "37d51d6c",
   "metadata": {},
   "source": [
    "**Matrix Multiplication**\n",
    "\n",
    "In machine learning, matrix multiplication is one of the most common tensor operations.\n",
    "\n",
    "Tensor multiplication follows the same rules as matrix multiplication."
   ]
  },
  {
   "cell_type": "code",
   "execution_count": 58,
   "id": "4a687b7d",
   "metadata": {},
   "outputs": [
    {
     "name": "stdout",
     "output_type": "stream",
     "text": [
      "tf.Tensor(\n",
      "[[20 17]\n",
      " [13 14]], shape=(2, 2), dtype=int32)\n"
     ]
    },
    {
     "data": {
      "text/plain": [
       "<tf.Tensor: shape=(2, 2), dtype=int32, numpy=\n",
       "array([[621, 578],\n",
       "       [442, 417]], dtype=int32)>"
      ]
     },
     "execution_count": 58,
     "metadata": {},
     "output_type": "execute_result"
    }
   ],
   "source": [
    "# Matrix multiplication in tensor flow\n",
    "print(tensor)\n",
    "tf.matmul(tensor, tensor)"
   ]
  },
  {
   "cell_type": "code",
   "execution_count": 59,
   "id": "6b299793",
   "metadata": {},
   "outputs": [
    {
     "data": {
      "text/plain": [
       "<tf.Tensor: shape=(2, 2), dtype=int32, numpy=\n",
       "array([[621, 578],\n",
       "       [442, 417]], dtype=int32)>"
      ]
     },
     "execution_count": 59,
     "metadata": {},
     "output_type": "execute_result"
    }
   ],
   "source": [
    "# Matrix multiplication with python operator \"@\"\n",
    "tensor @ tensor"
   ]
  },
  {
   "cell_type": "code",
   "execution_count": 60,
   "id": "ccada3e9",
   "metadata": {},
   "outputs": [
    {
     "data": {
      "text/plain": [
       "TensorShape([2, 2])"
      ]
     },
     "execution_count": 60,
     "metadata": {},
     "output_type": "execute_result"
    }
   ],
   "source": [
    "tensor.shape"
   ]
  },
  {
   "cell_type": "code",
   "execution_count": 61,
   "id": "2a52890f",
   "metadata": {},
   "outputs": [],
   "source": [
    "# Create a (3, 2) tensor \n",
    "X = tf.constant([[1, 2],\n",
    "                 [3, 4], \n",
    "                 [5, 6]])\n",
    "# create another (3, 2) tensor\n",
    "Y = tf.constant([[7, 8],\n",
    "                 [9, 10], \n",
    "                 [11, 12]])"
   ]
  },
  {
   "cell_type": "code",
   "execution_count": 62,
   "id": "1072d588",
   "metadata": {},
   "outputs": [
    {
     "ename": "InvalidArgumentError",
     "evalue": "{{function_node __wrapped__MatMul_device_/job:localhost/replica:0/task:0/device:CPU:0}} Matrix size-incompatible: In[0]: [3,2], In[1]: [3,2] [Op:MatMul]",
     "output_type": "error",
     "traceback": [
      "\u001b[0;31m---------------------------------------------------------------------------\u001b[0m",
      "\u001b[0;31mInvalidArgumentError\u001b[0m                      Traceback (most recent call last)",
      "Cell \u001b[0;32mIn [62], line 2\u001b[0m\n\u001b[1;32m      1\u001b[0m \u001b[38;5;66;03m# multiply the two same-sized tensors\u001b[39;00m\n\u001b[0;32m----> 2\u001b[0m \u001b[43mtf\u001b[49m\u001b[38;5;241;43m.\u001b[39;49m\u001b[43mmatmul\u001b[49m\u001b[43m(\u001b[49m\u001b[43mX\u001b[49m\u001b[43m,\u001b[49m\u001b[43m \u001b[49m\u001b[43mY\u001b[49m\u001b[43m)\u001b[49m\n",
      "File \u001b[0;32m/Library/Frameworks/Python.framework/Versions/3.9/lib/python3.9/site-packages/tensorflow/python/util/traceback_utils.py:153\u001b[0m, in \u001b[0;36mfilter_traceback.<locals>.error_handler\u001b[0;34m(*args, **kwargs)\u001b[0m\n\u001b[1;32m    151\u001b[0m \u001b[38;5;28;01mexcept\u001b[39;00m \u001b[38;5;167;01mException\u001b[39;00m \u001b[38;5;28;01mas\u001b[39;00m e:\n\u001b[1;32m    152\u001b[0m   filtered_tb \u001b[38;5;241m=\u001b[39m _process_traceback_frames(e\u001b[38;5;241m.\u001b[39m__traceback__)\n\u001b[0;32m--> 153\u001b[0m   \u001b[38;5;28;01mraise\u001b[39;00m e\u001b[38;5;241m.\u001b[39mwith_traceback(filtered_tb) \u001b[38;5;28;01mfrom\u001b[39;00m \u001b[38;5;28mNone\u001b[39m\n\u001b[1;32m    154\u001b[0m \u001b[38;5;28;01mfinally\u001b[39;00m:\n\u001b[1;32m    155\u001b[0m   \u001b[38;5;28;01mdel\u001b[39;00m filtered_tb\n",
      "File \u001b[0;32m/Library/Frameworks/Python.framework/Versions/3.9/lib/python3.9/site-packages/tensorflow/python/framework/ops.py:7209\u001b[0m, in \u001b[0;36mraise_from_not_ok_status\u001b[0;34m(e, name)\u001b[0m\n\u001b[1;32m   7207\u001b[0m \u001b[38;5;28;01mdef\u001b[39;00m \u001b[38;5;21mraise_from_not_ok_status\u001b[39m(e, name):\n\u001b[1;32m   7208\u001b[0m   e\u001b[38;5;241m.\u001b[39mmessage \u001b[38;5;241m+\u001b[39m\u001b[38;5;241m=\u001b[39m (\u001b[38;5;124m\"\u001b[39m\u001b[38;5;124m name: \u001b[39m\u001b[38;5;124m\"\u001b[39m \u001b[38;5;241m+\u001b[39m name \u001b[38;5;28;01mif\u001b[39;00m name \u001b[38;5;129;01mis\u001b[39;00m \u001b[38;5;129;01mnot\u001b[39;00m \u001b[38;5;28;01mNone\u001b[39;00m \u001b[38;5;28;01melse\u001b[39;00m \u001b[38;5;124m\"\u001b[39m\u001b[38;5;124m\"\u001b[39m)\n\u001b[0;32m-> 7209\u001b[0m   \u001b[38;5;28;01mraise\u001b[39;00m core\u001b[38;5;241m.\u001b[39m_status_to_exception(e) \u001b[38;5;28;01mfrom\u001b[39;00m \u001b[38;5;28mNone\u001b[39m\n",
      "\u001b[0;31mInvalidArgumentError\u001b[0m: {{function_node __wrapped__MatMul_device_/job:localhost/replica:0/task:0/device:CPU:0}} Matrix size-incompatible: In[0]: [3,2], In[1]: [3,2] [Op:MatMul]"
     ]
    }
   ],
   "source": [
    "# multiply the two same-sized tensors\n",
    "tf.matmul(X, Y)"
   ]
  },
  {
   "cell_type": "code",
   "execution_count": 63,
   "id": "474c7bb6",
   "metadata": {},
   "outputs": [
    {
     "data": {
      "text/plain": [
       "<tf.Tensor: shape=(2, 3), dtype=int32, numpy=\n",
       "array([[ 7,  8,  9],\n",
       "       [10, 11, 12]], dtype=int32)>"
      ]
     },
     "execution_count": 63,
     "metadata": {},
     "output_type": "execute_result"
    }
   ],
   "source": [
    "# Let's change the shape of Y\n",
    "tf.reshape(Y, shape=(2, 3))"
   ]
  },
  {
   "cell_type": "code",
   "execution_count": 64,
   "id": "fff2fa6b",
   "metadata": {},
   "outputs": [
    {
     "data": {
      "text/plain": [
       "<tf.Tensor: shape=(3, 3), dtype=int32, numpy=\n",
       "array([[ 27,  30,  33],\n",
       "       [ 61,  68,  75],\n",
       "       [ 95, 106, 117]], dtype=int32)>"
      ]
     },
     "execution_count": 64,
     "metadata": {},
     "output_type": "execute_result"
    }
   ],
   "source": [
    "# Try to matrix multiply A by reshaped Y\n",
    "X @ tf.reshape(Y, (2, 3))"
   ]
  },
  {
   "cell_type": "code",
   "execution_count": 65,
   "id": "a43772f2",
   "metadata": {},
   "outputs": [
    {
     "data": {
      "text/plain": [
       "<tf.Tensor: shape=(3, 3), dtype=int32, numpy=\n",
       "array([[ 27,  30,  33],\n",
       "       [ 61,  68,  75],\n",
       "       [ 95, 106, 117]], dtype=int32)>"
      ]
     },
     "execution_count": 65,
     "metadata": {},
     "output_type": "execute_result"
    }
   ],
   "source": [
    "# Use the tensorflow tensor multiplication function now\n",
    "tf.matmul(X, tf.reshape(Y, (2, 3)))"
   ]
  },
  {
   "cell_type": "code",
   "execution_count": 66,
   "id": "aca6cc8b",
   "metadata": {},
   "outputs": [
    {
     "data": {
      "text/plain": [
       "<tf.Tensor: shape=(2, 2), dtype=int32, numpy=\n",
       "array([[ 58,  64],\n",
       "       [139, 154]], dtype=int32)>"
      ]
     },
     "execution_count": 66,
     "metadata": {},
     "output_type": "execute_result"
    }
   ],
   "source": [
    "# Reshape X and then multiply\n",
    "tf.matmul(tf.reshape(X, (2, 3)), Y)"
   ]
  },
  {
   "cell_type": "code",
   "execution_count": 67,
   "id": "139b6095",
   "metadata": {},
   "outputs": [
    {
     "data": {
      "text/plain": [
       "(<tf.Tensor: shape=(3, 2), dtype=int32, numpy=\n",
       " array([[1, 2],\n",
       "        [3, 4],\n",
       "        [5, 6]], dtype=int32)>,\n",
       " <tf.Tensor: shape=(2, 3), dtype=int32, numpy=\n",
       " array([[1, 3, 5],\n",
       "        [2, 4, 6]], dtype=int32)>,\n",
       " <tf.Tensor: shape=(2, 3), dtype=int32, numpy=\n",
       " array([[1, 2, 3],\n",
       "        [4, 5, 6]], dtype=int32)>)"
      ]
     },
     "execution_count": 67,
     "metadata": {},
     "output_type": "execute_result"
    }
   ],
   "source": [
    "# You can do the same with transpose\n",
    "X, tf.transpose(X), tf.reshape(X, shape=(2, 3))"
   ]
  },
  {
   "cell_type": "code",
   "execution_count": 68,
   "id": "66b319b5",
   "metadata": {},
   "outputs": [
    {
     "data": {
      "text/plain": [
       "<tf.Tensor: shape=(2, 2), dtype=int32, numpy=\n",
       "array([[ 89,  98],\n",
       "       [116, 128]], dtype=int32)>"
      ]
     },
     "execution_count": 68,
     "metadata": {},
     "output_type": "execute_result"
    }
   ],
   "source": [
    "# Try matrix multiplication with transpose rather than reshape\n",
    "tf.matmul(tf.transpose(X), Y)"
   ]
  },
  {
   "cell_type": "markdown",
   "id": "91229a14",
   "metadata": {},
   "source": [
    "**The dot product**\n",
    "\n",
    "Matrix Multiplication is also refered to as the dot product.\n",
    "\n",
    "You can perform matrix multiplication using:\n",
    "* `tf.matmul()`\n",
    "* `tf.tensordot()`"
   ]
  },
  {
   "cell_type": "code",
   "execution_count": 69,
   "id": "f8e574d1",
   "metadata": {},
   "outputs": [
    {
     "data": {
      "text/plain": [
       "(<tf.Tensor: shape=(3, 2), dtype=int32, numpy=\n",
       " array([[1, 2],\n",
       "        [3, 4],\n",
       "        [5, 6]], dtype=int32)>,\n",
       " <tf.Tensor: shape=(3, 2), dtype=int32, numpy=\n",
       " array([[ 7,  8],\n",
       "        [ 9, 10],\n",
       "        [11, 12]], dtype=int32)>)"
      ]
     },
     "execution_count": 69,
     "metadata": {},
     "output_type": "execute_result"
    }
   ],
   "source": [
    "X, Y"
   ]
  },
  {
   "cell_type": "code",
   "execution_count": 70,
   "id": "394a33b5",
   "metadata": {},
   "outputs": [
    {
     "data": {
      "text/plain": [
       "<tf.Tensor: shape=(2, 2), dtype=int32, numpy=\n",
       "array([[ 89,  98],\n",
       "       [116, 128]], dtype=int32)>"
      ]
     },
     "execution_count": 70,
     "metadata": {},
     "output_type": "execute_result"
    }
   ],
   "source": [
    "# Perform the dot prodcuct on X and Y (requires X or Y to be transposed)\n",
    "tf.tensordot(tf.transpose(X), Y, axes=1)"
   ]
  },
  {
   "cell_type": "code",
   "execution_count": 71,
   "id": "06e687f7",
   "metadata": {},
   "outputs": [
    {
     "data": {
      "text/plain": [
       "<tf.Tensor: shape=(3, 3), dtype=int32, numpy=\n",
       "array([[ 23,  29,  35],\n",
       "       [ 53,  67,  81],\n",
       "       [ 83, 105, 127]], dtype=int32)>"
      ]
     },
     "execution_count": 71,
     "metadata": {},
     "output_type": "execute_result"
    }
   ],
   "source": [
    "# Perform matrix multiplication between X and Y (transposed)\n",
    "tf.matmul(X, tf.transpose(Y))"
   ]
  },
  {
   "cell_type": "code",
   "execution_count": 72,
   "id": "383e1084",
   "metadata": {},
   "outputs": [
    {
     "data": {
      "text/plain": [
       "<tf.Tensor: shape=(3, 3), dtype=int32, numpy=\n",
       "array([[ 27,  30,  33],\n",
       "       [ 61,  68,  75],\n",
       "       [ 95, 106, 117]], dtype=int32)>"
      ]
     },
     "execution_count": 72,
     "metadata": {},
     "output_type": "execute_result"
    }
   ],
   "source": [
    "# Persorm matrix multiplication between X and Y (reshaped)\n",
    "tf.matmul(X, tf.reshape(Y, shape=(2, 3)))"
   ]
  },
  {
   "cell_type": "markdown",
   "id": "399e350d",
   "metadata": {},
   "source": [
    "Notice how the results for `tf.matmul` are dfferent when you use \"reshape\" vs \"transpose\""
   ]
  },
  {
   "cell_type": "code",
   "execution_count": 73,
   "id": "372ee946",
   "metadata": {},
   "outputs": [
    {
     "name": "stdout",
     "output_type": "stream",
     "text": [
      "Normal Y:\n",
      "tf.Tensor(\n",
      "[[ 7  8]\n",
      " [ 9 10]\n",
      " [11 12]], shape=(3, 2), dtype=int32) \n",
      "\n",
      "Y reshaped to (2, 3):\n",
      "tf.Tensor(\n",
      "[[ 7  8  9]\n",
      " [10 11 12]], shape=(2, 3), dtype=int32)\n",
      "Y transposed:\n",
      "tf.Tensor(\n",
      "[[ 7  9 11]\n",
      " [ 8 10 12]], shape=(2, 3), dtype=int32)\n"
     ]
    }
   ],
   "source": [
    "# Check the values of Y, reshape Y, and transpose Y\n",
    "print(\"Normal Y:\")\n",
    "print(Y, \"\\n\")\n",
    "\n",
    "print(\"Y reshaped to (2, 3):\")\n",
    "print(tf.reshape(Y, (2, 3)))\n",
    "\n",
    "print(\"Y transposed:\")\n",
    "print(tf.transpose(Y))"
   ]
  },
  {
   "cell_type": "code",
   "execution_count": 74,
   "id": "27bb5968",
   "metadata": {},
   "outputs": [
    {
     "data": {
      "text/plain": [
       "<tf.Tensor: shape=(3, 3), dtype=int32, numpy=\n",
       "array([[ 23,  29,  35],\n",
       "       [ 53,  67,  81],\n",
       "       [ 83, 105, 127]], dtype=int32)>"
      ]
     },
     "execution_count": 74,
     "metadata": {},
     "output_type": "execute_result"
    }
   ],
   "source": [
    "tf.matmul(X, tf.transpose(Y))"
   ]
  },
  {
   "cell_type": "markdown",
   "id": "2416811f",
   "metadata": {},
   "source": [
    "Generally, when performing matrix multiplication on two tensors, you will transpose (rather than reshape) one of the tensors"
   ]
  },
  {
   "cell_type": "markdown",
   "id": "f2af5a19",
   "metadata": {},
   "source": [
    "### Changing the data type of a tensor"
   ]
  },
  {
   "cell_type": "code",
   "execution_count": 75,
   "id": "a2e9a366",
   "metadata": {},
   "outputs": [
    {
     "data": {
      "text/plain": [
       "(<tf.Tensor: shape=(2,), dtype=float32, numpy=array([1.7, 7.4], dtype=float32)>,\n",
       " tf.float32)"
      ]
     },
     "execution_count": 75,
     "metadata": {},
     "output_type": "execute_result"
    }
   ],
   "source": [
    "# Create a new tensor with default data type (float32)\n",
    "B = tf.constant([1.7, 7.4])\n",
    "B, B.dtype"
   ]
  },
  {
   "cell_type": "code",
   "execution_count": 76,
   "id": "ae7d8bc4",
   "metadata": {},
   "outputs": [
    {
     "data": {
      "text/plain": [
       "tf.int32"
      ]
     },
     "execution_count": 76,
     "metadata": {},
     "output_type": "execute_result"
    }
   ],
   "source": [
    "C = tf.constant([7, 10])\n",
    "C.dtype"
   ]
  },
  {
   "cell_type": "code",
   "execution_count": 77,
   "id": "830b05ba",
   "metadata": {},
   "outputs": [
    {
     "data": {
      "text/plain": [
       "(<tf.Tensor: shape=(2,), dtype=float16, numpy=array([1.7, 7.4], dtype=float16)>,\n",
       " tf.float16)"
      ]
     },
     "execution_count": 77,
     "metadata": {},
     "output_type": "execute_result"
    }
   ],
   "source": [
    "# Change from float32 to float16\n",
    "D = tf.cast(B, dtype=tf.float16)\n",
    "D, D.dtype"
   ]
  },
  {
   "cell_type": "code",
   "execution_count": 78,
   "id": "5bd9048f",
   "metadata": {},
   "outputs": [
    {
     "data": {
      "text/plain": [
       "(<tf.Tensor: shape=(2,), dtype=float32, numpy=array([ 7., 10.], dtype=float32)>,\n",
       " tf.float32)"
      ]
     },
     "execution_count": 78,
     "metadata": {},
     "output_type": "execute_result"
    }
   ],
   "source": [
    "# Change from int32 to float32\n",
    "E = tf.cast(C, dtype=tf.float32)\n",
    "E, E.dtype"
   ]
  },
  {
   "cell_type": "code",
   "execution_count": 79,
   "id": "e6f71f0c",
   "metadata": {},
   "outputs": [
    {
     "data": {
      "text/plain": [
       "<tf.Tensor: shape=(2,), dtype=float16, numpy=array([ 7., 10.], dtype=float16)>"
      ]
     },
     "execution_count": 79,
     "metadata": {},
     "output_type": "execute_result"
    }
   ],
   "source": [
    "# Change from float32 to float16\n",
    "E_float16 = tf.cast(E, dtype=tf.float16)\n",
    "E_float16"
   ]
  },
  {
   "cell_type": "markdown",
   "id": "4b46785b",
   "metadata": {},
   "source": [
    "### Aggregating tensors\n",
    "\n",
    "Aggregating tensors = condensing them from multiple values down to a smaller amount of values."
   ]
  },
  {
   "cell_type": "code",
   "execution_count": 80,
   "id": "8fcd4db7",
   "metadata": {},
   "outputs": [
    {
     "data": {
      "text/plain": [
       "(<tf.Tensor: shape=(4, 5, 5), dtype=int32, numpy=\n",
       " array([[[ 0,  1,  2,  3,  4],\n",
       "         [ 5,  6,  7,  8,  9],\n",
       "         [10, 11, 12, 13, 14],\n",
       "         [15, 16, 17, 18, 19],\n",
       "         [20, 21, 22, 23, 24]],\n",
       " \n",
       "        [[25, 26, 27, 28, 29],\n",
       "         [30, 31, 32, 33, 34],\n",
       "         [35, 36, 37, 38, 39],\n",
       "         [40, 41, 42, 43, 44],\n",
       "         [45, 46, 47, 48, 49]],\n",
       " \n",
       "        [[50, 51, 52, 53, 54],\n",
       "         [55, 56, 57, 58, 59],\n",
       "         [60, 61, 62, 63, 64],\n",
       "         [65, 66, 67, 68, 69],\n",
       "         [70, 71, 72, 73, 74]],\n",
       " \n",
       "        [[75, 76, 77, 78, 79],\n",
       "         [80, 81, 82, 83, 84],\n",
       "         [85, 86, 87, 88, 89],\n",
       "         [90, 91, 92, 93, 94],\n",
       "         [95, 96, 97, 98, 99]]], dtype=int32)>,\n",
       " <tf.Tensor: shape=(50,), dtype=int64, numpy=\n",
       " array([64, 79, 19, 80, 53, 73,  1, 77, 50, 79, 63, 48, 79, 95, 33, 71, 55,\n",
       "        18, 24, 78, 31, 40, 91, 55,  0, 78, 52, 11, 30, 31, 41, 19, 67, 50,\n",
       "        30, 10, 89, 37, 14, 31, 69, 54, 85,  0, 55, 62, 98, 36, 39, 77])>)"
      ]
     },
     "execution_count": 80,
     "metadata": {},
     "output_type": "execute_result"
    }
   ],
   "source": [
    "# Create a tensor with values between 0 and 100 with shape (2, 5, 5)\n",
    "numpy_linear_tensor = np.arange(0, 100, dtype=np.int32) # create a Numpy array between -50 and 50\n",
    "linear_tensor = tf.constant(numpy_linear_tensor, shape=(4, 5, 5))\n",
    "\n",
    "# Create a random tensor with values betwen 0 and 100 of size 50\n",
    "# random_tensor = tf.random.Generator.from_seed(7)\n",
    "# random_tensor = random_tensor.uniform(shape=(4, 5, 5), minval=0.0, maxval=100)\n",
    "random_tensor = tf.constant(np.random.randint(0, 100, size=50))\n",
    "\n",
    "linear_tensor, random_tensor"
   ]
  },
  {
   "cell_type": "code",
   "execution_count": 81,
   "id": "e757e907",
   "metadata": {},
   "outputs": [
    {
     "data": {
      "text/plain": [
       "(<tf.Tensor: shape=(), dtype=int32, numpy=50>, TensorShape([50]), 1)"
      ]
     },
     "execution_count": 81,
     "metadata": {},
     "output_type": "execute_result"
    }
   ],
   "source": [
    "tf.size(random_tensor), random_tensor.shape, random_tensor.ndim"
   ]
  },
  {
   "cell_type": "code",
   "execution_count": 82,
   "id": "25841441",
   "metadata": {
    "scrolled": false
   },
   "outputs": [
    {
     "data": {
      "text/plain": [
       "(<tf.Tensor: shape=(4, 5, 5), dtype=int32, numpy=\n",
       " array([[[ 0,  1,  2,  3,  4],\n",
       "         [ 5,  6,  7,  8,  9],\n",
       "         [10, 11, 12, 13, 14],\n",
       "         [15, 16, 17, 18, 19],\n",
       "         [20, 21, 22, 23, 24]],\n",
       " \n",
       "        [[25, 26, 27, 28, 29],\n",
       "         [30, 31, 32, 33, 34],\n",
       "         [35, 36, 37, 38, 39],\n",
       "         [40, 41, 42, 43, 44],\n",
       "         [45, 46, 47, 48, 49]],\n",
       " \n",
       "        [[50, 51, 52, 53, 54],\n",
       "         [55, 56, 57, 58, 59],\n",
       "         [60, 61, 62, 63, 64],\n",
       "         [65, 66, 67, 68, 69],\n",
       "         [70, 71, 72, 73, 74]],\n",
       " \n",
       "        [[75, 76, 77, 78, 79],\n",
       "         [80, 81, 82, 83, 84],\n",
       "         [85, 86, 87, 88, 89],\n",
       "         [90, 91, 92, 93, 94],\n",
       "         [95, 96, 97, 98, 99]]], dtype=int32)>,\n",
       " TensorShape([4, 5, 5]),\n",
       " <tf.Tensor: shape=(50,), dtype=int64, numpy=\n",
       " array([64, 79, 19, 80, 53, 73,  1, 77, 50, 79, 63, 48, 79, 95, 33, 71, 55,\n",
       "        18, 24, 78, 31, 40, 91, 55,  0, 78, 52, 11, 30, 31, 41, 19, 67, 50,\n",
       "        30, 10, 89, 37, 14, 31, 69, 54, 85,  0, 55, 62, 98, 36, 39, 77])>,\n",
       " TensorShape([50]))"
      ]
     },
     "execution_count": 82,
     "metadata": {},
     "output_type": "execute_result"
    }
   ],
   "source": [
    "# Get the absolute values and show the shape\n",
    "tf.abs(linear_tensor), linear_tensor.shape, tf.abs(random_tensor), random_tensor.shape"
   ]
  },
  {
   "cell_type": "markdown",
   "id": "e9817357",
   "metadata": {},
   "source": [
    "Lets go through the following forms of aggregation:\n",
    "* Get the minimum\n",
    "* Get the maximum\n",
    "* Get the mean of a tensor \n",
    "* Get the sum of a tensor"
   ]
  },
  {
   "cell_type": "code",
   "execution_count": 83,
   "id": "1c588ec7",
   "metadata": {},
   "outputs": [
    {
     "data": {
      "text/plain": [
       "(<tf.Tensor: shape=(), dtype=int32, numpy=0>,\n",
       " <tf.Tensor: shape=(), dtype=int64, numpy=0>)"
      ]
     },
     "execution_count": 83,
     "metadata": {},
     "output_type": "execute_result"
    }
   ],
   "source": [
    "# Get the minimum valued element of the tensors\n",
    "tf.reduce_min(linear_tensor), tf.reduce_min(random_tensor)"
   ]
  },
  {
   "cell_type": "code",
   "execution_count": 84,
   "id": "9d59dc59",
   "metadata": {},
   "outputs": [
    {
     "data": {
      "text/plain": [
       "(<tf.Tensor: shape=(), dtype=int32, numpy=99>,\n",
       " <tf.Tensor: shape=(), dtype=int64, numpy=98>)"
      ]
     },
     "execution_count": 84,
     "metadata": {},
     "output_type": "execute_result"
    }
   ],
   "source": [
    "# Get the max valued element of the tensors\n",
    "tf.reduce_max(linear_tensor), tf.reduce_max(random_tensor)"
   ]
  },
  {
   "cell_type": "code",
   "execution_count": 85,
   "id": "57e4fe85",
   "metadata": {},
   "outputs": [
    {
     "data": {
      "text/plain": [
       "(<tf.Tensor: shape=(), dtype=int32, numpy=49>,\n",
       " <tf.Tensor: shape=(), dtype=int64, numpy=50>)"
      ]
     },
     "execution_count": 85,
     "metadata": {},
     "output_type": "execute_result"
    }
   ],
   "source": [
    "# Get the mean of the tensor\n",
    "tf.reduce_mean(linear_tensor), tf.reduce_mean(random_tensor)"
   ]
  },
  {
   "cell_type": "code",
   "execution_count": 86,
   "id": "60ad54f0",
   "metadata": {},
   "outputs": [
    {
     "data": {
      "text/plain": [
       "(<tf.Tensor: shape=(), dtype=int32, numpy=4950>,\n",
       " <tf.Tensor: shape=(), dtype=int64, numpy=2521>)"
      ]
     },
     "execution_count": 86,
     "metadata": {},
     "output_type": "execute_result"
    }
   ],
   "source": [
    "# Get the sum of the tensor\n",
    "tf.reduce_sum(linear_tensor), tf.reduce_sum(random_tensor)"
   ]
  },
  {
   "cell_type": "markdown",
   "id": "f03ae652",
   "metadata": {},
   "source": [
    "**Exersize:** With what we've just learned, find the variance and standard deviation of our `random_tensor` using Tensorflow methods."
   ]
  },
  {
   "cell_type": "code",
   "execution_count": 87,
   "id": "be96cebb",
   "metadata": {
    "scrolled": true
   },
   "outputs": [
    {
     "data": {
      "text/plain": [
       "<tf.Tensor: shape=(50,), dtype=float32, numpy=\n",
       "array([64., 79., 19., 80., 53., 73.,  1., 77., 50., 79., 63., 48., 79.,\n",
       "       95., 33., 71., 55., 18., 24., 78., 31., 40., 91., 55.,  0., 78.,\n",
       "       52., 11., 30., 31., 41., 19., 67., 50., 30., 10., 89., 37., 14.,\n",
       "       31., 69., 54., 85.,  0., 55., 62., 98., 36., 39., 77.],\n",
       "      dtype=float32)>"
      ]
     },
     "execution_count": 87,
     "metadata": {},
     "output_type": "execute_result"
    }
   ],
   "source": [
    "# Change from int64 to float32\n",
    "random_tensor_float = tf.cast(random_tensor, dtype=tf.float32)\n",
    "random_tensor_float"
   ]
  },
  {
   "cell_type": "code",
   "execution_count": 88,
   "id": "6483c953",
   "metadata": {},
   "outputs": [
    {
     "data": {
      "text/plain": [
       "<tf.Tensor: shape=(), dtype=float32, numpy=714.2436>"
      ]
     },
     "execution_count": 88,
     "metadata": {},
     "output_type": "execute_result"
    }
   ],
   "source": [
    "# Find the variance\n",
    "tf.math.reduce_variance(random_tensor_float)"
   ]
  },
  {
   "cell_type": "code",
   "execution_count": 89,
   "id": "3f9df1eb",
   "metadata": {
    "scrolled": true
   },
   "outputs": [
    {
     "data": {
      "text/plain": [
       "<tf.Tensor: shape=(), dtype=float32, numpy=26.725336>"
      ]
     },
     "execution_count": 89,
     "metadata": {},
     "output_type": "execute_result"
    }
   ],
   "source": [
    "# Find the standard deviation\n",
    "tf.math.reduce_std(random_tensor_float)"
   ]
  },
  {
   "cell_type": "markdown",
   "id": "28e243f0",
   "metadata": {},
   "source": [
    "### Find the positional maximum and minimum of a tensor\n",
    "This means that we want to find the **index** with the largest/smallest value across axes of a tensor"
   ]
  },
  {
   "cell_type": "code",
   "execution_count": 90,
   "id": "fb49fbd5",
   "metadata": {
    "scrolled": false
   },
   "outputs": [
    {
     "data": {
      "text/plain": [
       "<tf.Tensor: shape=(50,), dtype=float32, numpy=\n",
       "array([0.6645621 , 0.44100678, 0.3528825 , 0.46448255, 0.03366041,\n",
       "       0.68467236, 0.74011743, 0.8724445 , 0.22632635, 0.22319686,\n",
       "       0.3103881 , 0.7223358 , 0.13318717, 0.5480639 , 0.5746088 ,\n",
       "       0.8996835 , 0.00946367, 0.5212307 , 0.6345445 , 0.1993283 ,\n",
       "       0.72942245, 0.54583454, 0.10756552, 0.6767061 , 0.6602763 ,\n",
       "       0.33695042, 0.60141766, 0.21062577, 0.8527372 , 0.44062173,\n",
       "       0.9485276 , 0.23752594, 0.81179297, 0.5263394 , 0.494308  ,\n",
       "       0.21612847, 0.8457197 , 0.8718841 , 0.3083862 , 0.6868038 ,\n",
       "       0.23764038, 0.7817228 , 0.9671384 , 0.06870162, 0.79873943,\n",
       "       0.66028714, 0.5871513 , 0.16461694, 0.7381023 , 0.32054043],\n",
       "      dtype=float32)>"
      ]
     },
     "execution_count": 90,
     "metadata": {},
     "output_type": "execute_result"
    }
   ],
   "source": [
    "# create a new tensor for finding positional minimum and maximum\n",
    "tf.random.set_seed(42)\n",
    "F = tf.random.uniform(shape=[50])\n",
    "F"
   ]
  },
  {
   "cell_type": "code",
   "execution_count": 91,
   "id": "8d998ca2",
   "metadata": {},
   "outputs": [
    {
     "data": {
      "text/plain": [
       "<tf.Tensor: shape=(), dtype=int64, numpy=42>"
      ]
     },
     "execution_count": 91,
     "metadata": {},
     "output_type": "execute_result"
    }
   ],
   "source": [
    "# Find the positional maximum\n",
    "tf.math.argmax(F)"
   ]
  },
  {
   "cell_type": "code",
   "execution_count": 92,
   "id": "1a4b6ef9",
   "metadata": {},
   "outputs": [
    {
     "data": {
      "text/plain": [
       "<tf.Tensor: shape=(), dtype=float32, numpy=0.9671384>"
      ]
     },
     "execution_count": 92,
     "metadata": {},
     "output_type": "execute_result"
    }
   ],
   "source": [
    "# index on our largest value position\n",
    "F[tf.math.argmax(F)]"
   ]
  },
  {
   "cell_type": "code",
   "execution_count": 93,
   "id": "1d9ad47c",
   "metadata": {},
   "outputs": [
    {
     "data": {
      "text/plain": [
       "<tf.Tensor: shape=(), dtype=float32, numpy=0.9671384>"
      ]
     },
     "execution_count": 93,
     "metadata": {},
     "output_type": "execute_result"
    }
   ],
   "source": [
    "# find the max value of F\n",
    "tf.reduce_max(F)"
   ]
  },
  {
   "cell_type": "code",
   "execution_count": 94,
   "id": "372737fe",
   "metadata": {},
   "outputs": [
    {
     "data": {
      "text/plain": [
       "<tf.Tensor: shape=(), dtype=bool, numpy=True>"
      ]
     },
     "execution_count": 94,
     "metadata": {},
     "output_type": "execute_result"
    }
   ],
   "source": [
    "# Check for equality\n",
    "F[tf.math.argmax(F)] == tf.reduce_max(F)"
   ]
  },
  {
   "cell_type": "code",
   "execution_count": 95,
   "id": "20c22770",
   "metadata": {},
   "outputs": [
    {
     "data": {
      "text/plain": [
       "<tf.Tensor: shape=(), dtype=int64, numpy=16>"
      ]
     },
     "execution_count": 95,
     "metadata": {},
     "output_type": "execute_result"
    }
   ],
   "source": [
    "# Find the positional minmum\n",
    "tf.math.argmin(F)"
   ]
  },
  {
   "cell_type": "code",
   "execution_count": 96,
   "id": "aa86baf5",
   "metadata": {},
   "outputs": [
    {
     "data": {
      "text/plain": [
       "<tf.Tensor: shape=(), dtype=float32, numpy=0.009463668>"
      ]
     },
     "execution_count": 96,
     "metadata": {},
     "output_type": "execute_result"
    }
   ],
   "source": [
    "# find the minimum using hte positional minimum index\n",
    "F[tf.argmin(F)]"
   ]
  },
  {
   "cell_type": "markdown",
   "id": "7ba81126",
   "metadata": {},
   "source": [
    "### Squeezing a tensor (removing all single dimentions)"
   ]
  },
  {
   "cell_type": "code",
   "execution_count": 97,
   "id": "d9862b7f",
   "metadata": {
    "scrolled": false
   },
   "outputs": [
    {
     "data": {
      "text/plain": [
       "<tf.Tensor: shape=(1, 1, 1, 1, 50), dtype=float32, numpy=\n",
       "array([[[[[0.6645621 , 0.44100678, 0.3528825 , 0.46448255, 0.03366041,\n",
       "           0.68467236, 0.74011743, 0.8724445 , 0.22632635, 0.22319686,\n",
       "           0.3103881 , 0.7223358 , 0.13318717, 0.5480639 , 0.5746088 ,\n",
       "           0.8996835 , 0.00946367, 0.5212307 , 0.6345445 , 0.1993283 ,\n",
       "           0.72942245, 0.54583454, 0.10756552, 0.6767061 , 0.6602763 ,\n",
       "           0.33695042, 0.60141766, 0.21062577, 0.8527372 , 0.44062173,\n",
       "           0.9485276 , 0.23752594, 0.81179297, 0.5263394 , 0.494308  ,\n",
       "           0.21612847, 0.8457197 , 0.8718841 , 0.3083862 , 0.6868038 ,\n",
       "           0.23764038, 0.7817228 , 0.9671384 , 0.06870162, 0.79873943,\n",
       "           0.66028714, 0.5871513 , 0.16461694, 0.7381023 , 0.32054043]]]]],\n",
       "      dtype=float32)>"
      ]
     },
     "execution_count": 97,
     "metadata": {},
     "output_type": "execute_result"
    }
   ],
   "source": [
    "# Create a tensor to get started\n",
    "tf.random.set_seed(42)\n",
    "G = tf.constant(tf.random.uniform(shape=[50]), shape=(1,1,1,1,50))\n",
    "G"
   ]
  },
  {
   "cell_type": "code",
   "execution_count": 98,
   "id": "fcbdafe6",
   "metadata": {},
   "outputs": [
    {
     "data": {
      "text/plain": [
       "TensorShape([1, 1, 1, 1, 50])"
      ]
     },
     "execution_count": 98,
     "metadata": {},
     "output_type": "execute_result"
    }
   ],
   "source": [
    "# Find the dhape of G\n",
    "G.shape"
   ]
  },
  {
   "cell_type": "code",
   "execution_count": 99,
   "id": "4ce83f0f",
   "metadata": {},
   "outputs": [
    {
     "data": {
      "text/plain": [
       "(<tf.Tensor: shape=(50,), dtype=float32, numpy=\n",
       " array([0.6645621 , 0.44100678, 0.3528825 , 0.46448255, 0.03366041,\n",
       "        0.68467236, 0.74011743, 0.8724445 , 0.22632635, 0.22319686,\n",
       "        0.3103881 , 0.7223358 , 0.13318717, 0.5480639 , 0.5746088 ,\n",
       "        0.8996835 , 0.00946367, 0.5212307 , 0.6345445 , 0.1993283 ,\n",
       "        0.72942245, 0.54583454, 0.10756552, 0.6767061 , 0.6602763 ,\n",
       "        0.33695042, 0.60141766, 0.21062577, 0.8527372 , 0.44062173,\n",
       "        0.9485276 , 0.23752594, 0.81179297, 0.5263394 , 0.494308  ,\n",
       "        0.21612847, 0.8457197 , 0.8718841 , 0.3083862 , 0.6868038 ,\n",
       "        0.23764038, 0.7817228 , 0.9671384 , 0.06870162, 0.79873943,\n",
       "        0.66028714, 0.5871513 , 0.16461694, 0.7381023 , 0.32054043],\n",
       "       dtype=float32)>,\n",
       " TensorShape([50]))"
      ]
     },
     "execution_count": 99,
     "metadata": {},
     "output_type": "execute_result"
    }
   ],
   "source": [
    "# Apply the squeeze on G\n",
    "G_squeezed = tf.squeeze(G)\n",
    "G_squeezed, G_squeezed.shape"
   ]
  },
  {
   "cell_type": "markdown",
   "id": "0cb02c09",
   "metadata": {},
   "source": [
    "### One-hot encoding tensors"
   ]
  },
  {
   "cell_type": "code",
   "execution_count": 100,
   "id": "4652cf50",
   "metadata": {},
   "outputs": [
    {
     "data": {
      "text/plain": [
       "<tf.Tensor: shape=(4, 4), dtype=float32, numpy=\n",
       "array([[1., 0., 0., 0.],\n",
       "       [0., 1., 0., 0.],\n",
       "       [0., 0., 1., 0.],\n",
       "       [0., 0., 0., 1.]], dtype=float32)>"
      ]
     },
     "execution_count": 100,
     "metadata": {},
     "output_type": "execute_result"
    }
   ],
   "source": [
    "# Create a list of indices\n",
    "some_list = [0, 1, 2, 3] # could be representing items such as red, green, blue, or purple\n",
    "\n",
    "# One hot encde our list of indices \n",
    "tf.one_hot(some_list, depth=4)"
   ]
  },
  {
   "cell_type": "code",
   "execution_count": 101,
   "id": "37db195e",
   "metadata": {
    "scrolled": false
   },
   "outputs": [
    {
     "data": {
      "text/plain": [
       "<tf.Tensor: shape=(4, 4), dtype=string, numpy=\n",
       "array([[b'yo i love deep learnng', b'poopoo', b'poopoo', b'poopoo'],\n",
       "       [b'poopoo', b'yo i love deep learnng', b'poopoo', b'poopoo'],\n",
       "       [b'poopoo', b'poopoo', b'yo i love deep learnng', b'poopoo'],\n",
       "       [b'poopoo', b'poopoo', b'poopoo', b'yo i love deep learnng']],\n",
       "      dtype=object)>"
      ]
     },
     "execution_count": 101,
     "metadata": {},
     "output_type": "execute_result"
    }
   ],
   "source": [
    "# Specify custom values for one-hot encoding\n",
    "tf.one_hot(some_list, depth=4, on_value=\"yo i love deep learnng\", off_value=\"poopoo\")"
   ]
  },
  {
   "cell_type": "markdown",
   "id": "c9a3558c",
   "metadata": {},
   "source": [
    "**Practice:** Create your own list of indices and then one-hot encode it. See what happens when you change the `depth` parameter, and then change the `on_value` and `off_value`"
   ]
  },
  {
   "cell_type": "code",
   "execution_count": 102,
   "id": "fbf5413e",
   "metadata": {},
   "outputs": [
    {
     "data": {
      "text/plain": [
       "<tf.Tensor: shape=(5, 10), dtype=string, numpy=\n",
       "array([[b'', b'', b'', b'', b'YES', b'', b'', b'', b'', b''],\n",
       "       [b'', b'', b'YES', b'', b'', b'', b'', b'', b'', b''],\n",
       "       [b'', b'', b'', b'', b'', b'YES', b'', b'', b'', b''],\n",
       "       [b'', b'', b'', b'YES', b'', b'', b'', b'', b'', b''],\n",
       "       [b'', b'YES', b'', b'', b'', b'', b'', b'', b'', b'']],\n",
       "      dtype=object)>"
      ]
     },
     "execution_count": 102,
     "metadata": {},
     "output_type": "execute_result"
    }
   ],
   "source": [
    "# create a list of indices\n",
    "some_list_2 = [4, 2, 5, 3, 1] # list that represents a type of ice cream flavor\n",
    "# One-hot encode our list of indices\n",
    "tf.one_hot(some_list_2, depth=10, on_value=\"YES\", off_value=\"\")"
   ]
  },
  {
   "cell_type": "markdown",
   "id": "495757e3",
   "metadata": {},
   "source": [
    "### Squaring, log, and sqaure root"
   ]
  },
  {
   "cell_type": "code",
   "execution_count": 103,
   "id": "449fb2f8",
   "metadata": {},
   "outputs": [
    {
     "data": {
      "text/plain": [
       "<tf.Tensor: shape=(9,), dtype=int32, numpy=array([1, 2, 3, 4, 5, 6, 7, 8, 9], dtype=int32)>"
      ]
     },
     "execution_count": 103,
     "metadata": {},
     "output_type": "execute_result"
    }
   ],
   "source": [
    "# Create a new tensor\n",
    "H = tf.range(1, 10)\n",
    "H"
   ]
  },
  {
   "cell_type": "code",
   "execution_count": 104,
   "id": "2310d069",
   "metadata": {},
   "outputs": [
    {
     "data": {
      "text/plain": [
       "<tf.Tensor: shape=(9,), dtype=int32, numpy=array([ 1,  4,  9, 16, 25, 36, 49, 64, 81], dtype=int32)>"
      ]
     },
     "execution_count": 104,
     "metadata": {},
     "output_type": "execute_result"
    }
   ],
   "source": [
    "# Square it\n",
    "tf.math.square(H)"
   ]
  },
  {
   "cell_type": "code",
   "execution_count": 105,
   "id": "f1a32cfa",
   "metadata": {},
   "outputs": [
    {
     "data": {
      "text/plain": [
       "<tf.Tensor: shape=(9,), dtype=float32, numpy=\n",
       "array([1.       , 1.4142135, 1.7320508, 2.       , 2.236068 , 2.4494898,\n",
       "       2.6457512, 2.828427 , 3.       ], dtype=float32)>"
      ]
     },
     "execution_count": 105,
     "metadata": {},
     "output_type": "execute_result"
    }
   ],
   "source": [
    "# Square root\n",
    "tf.sqrt(tf.cast(H, dtype=tf.float32))"
   ]
  },
  {
   "cell_type": "code",
   "execution_count": 106,
   "id": "9257218e",
   "metadata": {},
   "outputs": [
    {
     "data": {
      "text/plain": [
       "<tf.Tensor: shape=(9,), dtype=float32, numpy=\n",
       "array([0.       , 0.6931472, 1.0986123, 1.3862944, 1.609438 , 1.7917595,\n",
       "       1.9459102, 2.0794415, 2.1972246], dtype=float32)>"
      ]
     },
     "execution_count": 106,
     "metadata": {},
     "output_type": "execute_result"
    }
   ],
   "source": [
    "# find the log\n",
    "tf.math.log(tf.cast(H, dtype=tf.float32))"
   ]
  },
  {
   "cell_type": "markdown",
   "id": "549b24ab",
   "metadata": {},
   "source": [
    "### Tensors and NumPy\n",
    "TensorFlow interacts beautifully with NumPy arrays"
   ]
  },
  {
   "cell_type": "code",
   "execution_count": 107,
   "id": "25e5b074",
   "metadata": {},
   "outputs": [
    {
     "data": {
      "text/plain": [
       "<tf.Tensor: shape=(3,), dtype=float64, numpy=array([ 3.,  7., 10.])>"
      ]
     },
     "execution_count": 107,
     "metadata": {},
     "output_type": "execute_result"
    }
   ],
   "source": [
    "# Create a tensor directly from a numpy array\n",
    "J = tf.constant(np.array([3., 7., 10.]))\n",
    "J"
   ]
  },
  {
   "cell_type": "code",
   "execution_count": 108,
   "id": "ca12b5c8",
   "metadata": {},
   "outputs": [
    {
     "data": {
      "text/plain": [
       "(array([ 3.,  7., 10.]), numpy.ndarray)"
      ]
     },
     "execution_count": 108,
     "metadata": {},
     "output_type": "execute_result"
    }
   ],
   "source": [
    "# Convert our tensor back to a numpy array\n",
    "np.array(J), type(np.array(J))"
   ]
  },
  {
   "cell_type": "code",
   "execution_count": 109,
   "id": "03084f42",
   "metadata": {},
   "outputs": [
    {
     "data": {
      "text/plain": [
       "(array([ 3.,  7., 10.]), numpy.ndarray)"
      ]
     },
     "execution_count": 109,
     "metadata": {},
     "output_type": "execute_result"
    }
   ],
   "source": [
    "# Convert tensor J to a numpy array\n",
    "J.numpy(), type(J.numpy())"
   ]
  },
  {
   "cell_type": "code",
   "execution_count": 110,
   "id": "a60b04a6",
   "metadata": {},
   "outputs": [
    {
     "data": {
      "text/plain": [
       "(tf.float64, tf.float32)"
      ]
     },
     "execution_count": 110,
     "metadata": {},
     "output_type": "execute_result"
    }
   ],
   "source": [
    "# The default data types of nupy and tf are slightly different\n",
    "numpy_J = tf.constant(np.array([3., 7., 10.]))\n",
    "tensor_J = tf.constant([3., 7., 10.])\n",
    "# Check the datatype of each\n",
    "numpy_J.dtype, tensor_J.dtype"
   ]
  },
  {
   "cell_type": "markdown",
   "id": "c13b4e53",
   "metadata": {},
   "source": [
    "# TensorFlow Fundamentals Exercises"
   ]
  },
  {
   "cell_type": "markdown",
   "id": "633ded43",
   "metadata": {},
   "source": [
    "**1.** Create a vector, scalar, matrix, and tensor with values of your choosing using `tf.constant()`."
   ]
  },
  {
   "cell_type": "code",
   "execution_count": 111,
   "id": "199a36b1",
   "metadata": {},
   "outputs": [
    {
     "data": {
      "text/plain": [
       "(<tf.Tensor: shape=(), dtype=int32, numpy=10>,\n",
       " <tf.Tensor: shape=(2,), dtype=int32, numpy=array([12, 10], dtype=int32)>,\n",
       " <tf.Tensor: shape=(2, 2), dtype=int32, numpy=\n",
       " array([[12, 10],\n",
       "        [10, 12]], dtype=int32)>,\n",
       " <tf.Tensor: shape=(2, 2, 2), dtype=int32, numpy=\n",
       " array([[[10, 12],\n",
       "         [ 2,  6]],\n",
       " \n",
       "        [[ 2,  6],\n",
       "         [12, 10]]], dtype=int32)>)"
      ]
     },
     "execution_count": 111,
     "metadata": {},
     "output_type": "execute_result"
    }
   ],
   "source": [
    "# create a scalar\n",
    "K = tf.constant(10)\n",
    "# create a vector\n",
    "L = tf.constant([12, 10])\n",
    "# create a matrix\n",
    "M = tf.constant([[12, 10],\n",
    "                [10, 12]])\n",
    "# create a tensor\n",
    "N = tf.constant([[[10, 12], [2, 6]],\n",
    "                 [[2, 6], [12, 10]]])\n",
    "K, L, M, N"
   ]
  },
  {
   "cell_type": "markdown",
   "id": "fe937092",
   "metadata": {},
   "source": [
    "**2.** Find the shape, rank, and size of the tensors you created in **1**."
   ]
  },
  {
   "cell_type": "code",
   "execution_count": 112,
   "id": "b167b16a",
   "metadata": {},
   "outputs": [
    {
     "data": {
      "text/plain": [
       "(TensorShape([]),\n",
       " TensorShape([2]),\n",
       " TensorShape([2, 2]),\n",
       " TensorShape([2, 2, 2]))"
      ]
     },
     "execution_count": 112,
     "metadata": {},
     "output_type": "execute_result"
    }
   ],
   "source": [
    "# Find the shape of tensors\n",
    "K.shape, L.shape, M.shape, N.shape"
   ]
  },
  {
   "cell_type": "code",
   "execution_count": 113,
   "id": "21b578fb",
   "metadata": {},
   "outputs": [
    {
     "data": {
      "text/plain": [
       "(0, 1, 2, 3)"
      ]
     },
     "execution_count": 113,
     "metadata": {},
     "output_type": "execute_result"
    }
   ],
   "source": [
    "# Find the rank of the tensors\n",
    "K.ndim, L.ndim, M.ndim, N.ndim"
   ]
  },
  {
   "cell_type": "code",
   "execution_count": 114,
   "id": "30ed2301",
   "metadata": {},
   "outputs": [
    {
     "data": {
      "text/plain": [
       "(<tf.Tensor: shape=(), dtype=int32, numpy=1>,\n",
       " <tf.Tensor: shape=(), dtype=int32, numpy=2>,\n",
       " <tf.Tensor: shape=(), dtype=int32, numpy=4>,\n",
       " <tf.Tensor: shape=(), dtype=int32, numpy=8>)"
      ]
     },
     "execution_count": 114,
     "metadata": {},
     "output_type": "execute_result"
    }
   ],
   "source": [
    "# find the size of the tensors\n",
    "tf.size(K), tf.size(L), tf.size(M), tf.size(N)"
   ]
  },
  {
   "cell_type": "markdown",
   "id": "e2031fc4",
   "metadata": {},
   "source": [
    "**3.** Create two tensors containing random values between 0 and 1 with shape `[5, 300]`."
   ]
  },
  {
   "cell_type": "code",
   "execution_count": 115,
   "id": "193c8158",
   "metadata": {},
   "outputs": [
    {
     "data": {
      "text/plain": [
       "(<tf.Tensor: shape=(5, 300), dtype=float32, numpy=\n",
       " array([[0.68789124, 0.48447883, 0.9309944 , ..., 0.6920762 , 0.33180213,\n",
       "         0.9212563 ],\n",
       "        [0.27369928, 0.10631859, 0.6218617 , ..., 0.4382149 , 0.30427706,\n",
       "         0.51477313],\n",
       "        [0.00920248, 0.37280262, 0.8177401 , ..., 0.56786287, 0.49201214,\n",
       "         0.9892651 ],\n",
       "        [0.88608265, 0.08672249, 0.12160683, ..., 0.91770685, 0.72545695,\n",
       "         0.8280058 ],\n",
       "        [0.36690474, 0.9200133 , 0.9646884 , ..., 0.69012   , 0.7137332 ,\n",
       "         0.2584542 ]], dtype=float32)>,\n",
       " <tf.Tensor: shape=(5, 300), dtype=float32, numpy=\n",
       " array([[0.7413678 , 0.62854624, 0.01738465, ..., 0.4851334 , 0.21059811,\n",
       "         0.25082767],\n",
       "        [0.10842848, 0.48783147, 0.8240961 , ..., 0.9204427 , 0.36046863,\n",
       "         0.28176582],\n",
       "        [0.7326695 , 0.46489418, 0.13622475, ..., 0.28130388, 0.63987684,\n",
       "         0.9987265 ],\n",
       "        [0.01447165, 0.7845044 , 0.33475304, ..., 0.56194997, 0.0209924 ,\n",
       "         0.1740731 ],\n",
       "        [0.90936875, 0.19861352, 0.9481231 , ..., 0.3573054 , 0.13161755,\n",
       "         0.22565222]], dtype=float32)>)"
      ]
     },
     "execution_count": 115,
     "metadata": {},
     "output_type": "execute_result"
    }
   ],
   "source": [
    "O = tf.constant(tf.random.uniform(shape=[1500]), shape=(5, 300))\n",
    "P = tf.constant(tf.random.uniform(shape=[1500]), shape=(5, 300))\n",
    "O, P"
   ]
  },
  {
   "cell_type": "markdown",
   "id": "c1d7b70e",
   "metadata": {},
   "source": [
    "**4.** Multiply the two tensors you created in **3** using matrix multiplication."
   ]
  },
  {
   "cell_type": "code",
   "execution_count": 116,
   "id": "67549ae5",
   "metadata": {},
   "outputs": [
    {
     "data": {
      "text/plain": [
       "<tf.Tensor: shape=(5, 5), dtype=float32, numpy=\n",
       "array([[75.714005, 80.87824 , 78.32848 , 78.259705, 79.130585],\n",
       "       [70.12708 , 72.09945 , 70.1678  , 73.24609 , 74.277405],\n",
       "       [75.16    , 79.52858 , 76.74644 , 78.14265 , 77.28679 ],\n",
       "       [77.113556, 75.401215, 72.79378 , 75.066376, 75.206535],\n",
       "       [79.87284 , 83.40138 , 78.57373 , 79.025894, 81.82093 ]],\n",
       "      dtype=float32)>"
      ]
     },
     "execution_count": 116,
     "metadata": {},
     "output_type": "execute_result"
    }
   ],
   "source": [
    "# use tf.matmul() to multiply the two tensors\n",
    "tf.matmul(O, tf.transpose(P))"
   ]
  },
  {
   "cell_type": "markdown",
   "id": "4a2048c1",
   "metadata": {},
   "source": [
    "**5.** Multiply the two tensors using dot product."
   ]
  },
  {
   "cell_type": "code",
   "execution_count": 117,
   "id": "2490f033",
   "metadata": {},
   "outputs": [
    {
     "data": {
      "text/plain": [
       "<tf.Tensor: shape=(5, 5), dtype=float32, numpy=\n",
       "array([[75.714005, 80.87824 , 78.32848 , 78.259705, 79.130585],\n",
       "       [70.12708 , 72.09945 , 70.1678  , 73.24609 , 74.277405],\n",
       "       [75.16    , 79.52858 , 76.74644 , 78.14265 , 77.28679 ],\n",
       "       [77.113556, 75.401215, 72.79378 , 75.066376, 75.206535],\n",
       "       [79.87284 , 83.40138 , 78.57373 , 79.025894, 81.82093 ]],\n",
       "      dtype=float32)>"
      ]
     },
     "execution_count": 117,
     "metadata": {},
     "output_type": "execute_result"
    }
   ],
   "source": [
    "# use dot product\n",
    "tf.tensordot(O, tf.transpose(P), axes=1)"
   ]
  },
  {
   "cell_type": "markdown",
   "id": "661a5d22",
   "metadata": {},
   "source": [
    "**6.** Create a tensor with random values between 0 and 1 with shape `[224, 224, 3]`."
   ]
  },
  {
   "cell_type": "code",
   "execution_count": 118,
   "id": "5b7d5b33",
   "metadata": {},
   "outputs": [
    {
     "data": {
      "text/plain": [
       "<tf.Tensor: shape=(224, 224, 3), dtype=float32, numpy=\n",
       "array([[[7.4023080e-01, 3.3938193e-01, 5.6925058e-01],\n",
       "        [4.4811392e-01, 2.9285502e-01, 4.2600560e-01],\n",
       "        [6.2890387e-01, 6.9106102e-01, 3.0925727e-01],\n",
       "        ...,\n",
       "        [9.1063976e-04, 6.9863999e-01, 1.7180574e-01],\n",
       "        [6.7542684e-01, 8.3492923e-01, 3.9038682e-01],\n",
       "        [2.3664141e-01, 6.2239432e-01, 1.0117912e-01]],\n",
       "\n",
       "       [[9.7064960e-01, 5.4594779e-01, 7.6819682e-01],\n",
       "        [2.6893330e-01, 2.6959443e-01, 2.8982997e-01],\n",
       "        [2.9215467e-01, 1.7108858e-01, 6.5597153e-01],\n",
       "        ...,\n",
       "        [9.5621395e-01, 5.4591870e-01, 5.3843534e-01],\n",
       "        [9.8861516e-01, 1.5786767e-01, 6.1375093e-01],\n",
       "        [7.2668612e-01, 6.1637163e-03, 1.6534305e-01]],\n",
       "\n",
       "       [[6.4095867e-01, 7.6697862e-01, 3.0138540e-01],\n",
       "        [1.5474892e-01, 1.7183411e-01, 2.7192724e-01],\n",
       "        [3.1211805e-01, 6.1451709e-01, 4.3001354e-01],\n",
       "        ...,\n",
       "        [8.4168065e-01, 5.0247252e-01, 2.8834987e-01],\n",
       "        [3.3173549e-01, 4.5103800e-01, 6.7354202e-02],\n",
       "        [1.0118127e-01, 4.2389810e-01, 6.8379509e-01]],\n",
       "\n",
       "       ...,\n",
       "\n",
       "       [[1.8096626e-01, 8.5838544e-01, 3.4178734e-02],\n",
       "        [5.9386420e-01, 3.8502932e-01, 8.7150073e-01],\n",
       "        [1.0209656e-01, 3.7833798e-01, 1.1331165e-01],\n",
       "        ...,\n",
       "        [8.5692227e-01, 4.2525017e-01, 3.6130440e-01],\n",
       "        [5.2397156e-01, 1.3922489e-01, 2.2725856e-01],\n",
       "        [9.1044855e-01, 9.1889143e-02, 1.5898192e-01]],\n",
       "\n",
       "       [[6.5610647e-02, 1.5236783e-01, 7.9822493e-01],\n",
       "        [3.0753601e-01, 4.3507314e-01, 7.9526460e-01],\n",
       "        [8.3535135e-01, 3.8671303e-01, 4.4709980e-01],\n",
       "        ...,\n",
       "        [6.8944788e-01, 6.5163302e-01, 9.1498744e-01],\n",
       "        [3.2730651e-01, 4.3430209e-01, 8.7547708e-01],\n",
       "        [1.8118513e-01, 6.4113998e-01, 4.3338275e-01]],\n",
       "\n",
       "       [[4.1520441e-01, 1.7824161e-01, 9.2302203e-02],\n",
       "        [4.3809581e-01, 4.6262145e-01, 3.8647270e-01],\n",
       "        [4.6021819e-02, 7.6314330e-02, 3.2944894e-01],\n",
       "        ...,\n",
       "        [3.7793708e-01, 8.7314355e-01, 5.2063870e-01],\n",
       "        [7.3511279e-01, 7.9594767e-01, 8.2211494e-02],\n",
       "        [9.7483528e-01, 8.2736588e-01, 7.6870322e-01]]], dtype=float32)>"
      ]
     },
     "execution_count": 118,
     "metadata": {},
     "output_type": "execute_result"
    }
   ],
   "source": [
    "Q = tf.constant(tf.random.uniform(shape=[150_528]), shape=(224, 224, 3))\n",
    "Q"
   ]
  },
  {
   "cell_type": "markdown",
   "id": "24018416",
   "metadata": {},
   "source": [
    "**7.** Find the min and max values of the tensor you created in **6** along the first axis."
   ]
  },
  {
   "cell_type": "code",
   "execution_count": 119,
   "id": "de7f79f9",
   "metadata": {
    "scrolled": true
   },
   "outputs": [
    {
     "data": {
      "text/plain": [
       "<tf.Tensor: shape=(224, 3), dtype=float32, numpy=\n",
       "array([[2.03430653e-03, 4.37009335e-03, 3.90768051e-04],\n",
       "       [3.51417065e-03, 7.98487663e-03, 3.59594822e-03],\n",
       "       [6.48093224e-03, 2.49707699e-03, 8.29935074e-04],\n",
       "       [1.56582594e-02, 7.75694847e-04, 9.87851620e-03],\n",
       "       [5.94484806e-03, 1.92798376e-02, 5.68044186e-03],\n",
       "       [1.93202496e-03, 4.99880314e-03, 6.75463676e-03],\n",
       "       [7.42089748e-03, 8.29935074e-04, 2.86221504e-04],\n",
       "       [4.54080105e-03, 4.18329239e-03, 9.62257385e-04],\n",
       "       [9.15646553e-04, 4.49621677e-03, 3.66115570e-03],\n",
       "       [1.78742409e-03, 4.46248055e-03, 7.77256489e-03],\n",
       "       [3.64875793e-03, 3.26538086e-03, 7.45463371e-03],\n",
       "       [5.15615940e-03, 2.73168087e-03, 1.84178352e-04],\n",
       "       [3.78739834e-03, 2.19345093e-05, 2.04169750e-03],\n",
       "       [1.40672922e-02, 1.87754631e-04, 2.32815742e-04],\n",
       "       [8.25285912e-04, 2.10213661e-03, 1.35517120e-03],\n",
       "       [4.73082066e-03, 7.74383545e-04, 1.39951706e-03],\n",
       "       [3.03184986e-03, 1.41239166e-03, 1.72853470e-03],\n",
       "       [4.53460217e-03, 5.27977943e-04, 1.95816755e-02],\n",
       "       [3.50272655e-03, 1.19948387e-03, 7.07042217e-03],\n",
       "       [2.98452377e-03, 6.36351109e-03, 4.58121300e-04],\n",
       "       [1.27955675e-02, 1.45339966e-03, 8.04018974e-03],\n",
       "       [7.93945789e-03, 3.88920307e-03, 2.68316269e-03],\n",
       "       [4.49228287e-03, 3.42130661e-04, 3.03399563e-03],\n",
       "       [4.00900841e-04, 2.92778015e-04, 2.21109390e-03],\n",
       "       [2.81071663e-03, 1.17335320e-02, 1.13128424e-02],\n",
       "       [9.78827477e-04, 8.24928284e-04, 3.26013565e-03],\n",
       "       [5.99634647e-03, 4.64320183e-04, 6.12378120e-04],\n",
       "       [1.07038021e-03, 2.43997574e-03, 4.81772423e-03],\n",
       "       [1.23786926e-03, 3.09562683e-03, 5.46669960e-03],\n",
       "       [7.95447826e-03, 3.18551064e-03, 9.86814499e-04],\n",
       "       [6.17694855e-03, 5.35571575e-03, 1.76680088e-03],\n",
       "       [8.86917114e-05, 1.08245611e-02, 1.23631954e-03],\n",
       "       [1.36069059e-02, 2.19511986e-03, 5.03528118e-03],\n",
       "       [3.47375870e-03, 8.05020332e-04, 8.25166702e-04],\n",
       "       [3.20267677e-03, 5.74862957e-03, 2.31504440e-03],\n",
       "       [4.47881222e-03, 1.56521797e-03, 2.65002251e-04],\n",
       "       [1.53775215e-02, 1.82247162e-03, 1.59478188e-03],\n",
       "       [1.29497051e-02, 7.82477856e-03, 8.32080841e-04],\n",
       "       [1.22666359e-03, 7.13789463e-03, 2.24864483e-03],\n",
       "       [7.84158707e-03, 2.04718113e-03, 5.66780567e-03],\n",
       "       [9.27305222e-03, 5.86342812e-03, 1.42489672e-02],\n",
       "       [7.74145126e-03, 7.07566738e-03, 6.11042976e-03],\n",
       "       [2.42233276e-03, 4.26411629e-03, 2.05528736e-03],\n",
       "       [2.28309631e-03, 1.58338547e-02, 8.05616379e-03],\n",
       "       [8.99362564e-03, 2.81012058e-03, 2.56276131e-03],\n",
       "       [3.75461578e-03, 1.63352489e-03, 1.54137611e-04],\n",
       "       [3.21972370e-03, 1.25792027e-02, 5.36799431e-04],\n",
       "       [4.44674492e-03, 1.27875805e-03, 6.90937042e-04],\n",
       "       [9.10365582e-03, 3.83377075e-04, 2.14040279e-03],\n",
       "       [1.71935558e-03, 5.54895401e-03, 8.08346272e-03],\n",
       "       [3.91662121e-03, 4.71997261e-03, 2.26068497e-03],\n",
       "       [4.93395329e-03, 7.64584541e-03, 3.01790237e-03],\n",
       "       [2.03466415e-03, 3.61597538e-03, 2.53117085e-03],\n",
       "       [1.42329931e-02, 3.81708145e-04, 3.16035748e-03],\n",
       "       [2.83205509e-03, 5.68449497e-03, 9.93251801e-04],\n",
       "       [8.34143162e-03, 1.96158886e-03, 3.54266167e-03],\n",
       "       [9.47630405e-03, 1.37591362e-03, 4.42266464e-04],\n",
       "       [9.15205479e-03, 3.36265564e-03, 3.57615948e-03],\n",
       "       [1.08621120e-02, 1.11198425e-03, 8.57734680e-03],\n",
       "       [1.50454044e-03, 2.75373459e-05, 8.40318203e-03],\n",
       "       [3.19087505e-03, 1.26075745e-03, 1.80971622e-03],\n",
       "       [4.29224968e-03, 6.54578209e-04, 1.88720226e-03],\n",
       "       [1.15401745e-02, 5.14149666e-03, 1.10971928e-03],\n",
       "       [1.06408596e-02, 4.73916531e-03, 9.64403152e-04],\n",
       "       [5.90085983e-04, 3.97002697e-03, 1.92928314e-03],\n",
       "       [3.13889980e-03, 3.80873680e-04, 1.02598667e-02],\n",
       "       [4.44126129e-03, 1.72924995e-03, 5.04362583e-03],\n",
       "       [3.11958790e-03, 1.80244446e-03, 1.60694122e-03],\n",
       "       [1.27756596e-02, 1.13999844e-03, 7.35712051e-03],\n",
       "       [1.45673752e-03, 1.21480227e-02, 2.28548050e-03],\n",
       "       [4.75668907e-03, 6.07359409e-03, 3.76164913e-03],\n",
       "       [7.36236572e-04, 2.67732143e-03, 2.29811668e-03],\n",
       "       [1.07924938e-02, 2.22206116e-04, 3.12292576e-03],\n",
       "       [4.71889973e-03, 3.09586525e-04, 3.88669968e-03],\n",
       "       [5.53965569e-04, 1.92334652e-02, 9.84787941e-04],\n",
       "       [1.78744793e-02, 4.82666492e-03, 1.56855583e-03],\n",
       "       [1.27267838e-03, 3.91840935e-04, 4.67801094e-03],\n",
       "       [4.04262543e-03, 3.40223312e-04, 1.12378597e-03],\n",
       "       [8.18967819e-03, 1.61039829e-03, 3.38304043e-03],\n",
       "       [1.66893005e-03, 1.10983849e-03, 2.28643417e-04],\n",
       "       [3.57460976e-03, 2.72738934e-03, 1.12867355e-03],\n",
       "       [1.44313574e-02, 2.41160393e-04, 1.73234940e-03],\n",
       "       [1.24343634e-02, 4.66942787e-04, 1.31783485e-02],\n",
       "       [7.78198242e-04, 7.01069832e-04, 6.40153885e-05],\n",
       "       [1.63674355e-04, 5.21731377e-03, 4.69017029e-03],\n",
       "       [6.37364388e-03, 1.41154528e-02, 2.33840942e-03],\n",
       "       [7.37524033e-03, 3.20553780e-03, 4.64558601e-04],\n",
       "       [1.69277191e-03, 3.07691097e-03, 2.57790089e-03],\n",
       "       [9.13262367e-03, 4.03916836e-03, 1.45161152e-03],\n",
       "       [8.56006145e-03, 3.08239460e-03, 2.82645226e-04],\n",
       "       [4.82153893e-03, 9.17422771e-03, 1.71880722e-02],\n",
       "       [2.10905075e-03, 5.66601753e-04, 4.77755070e-03],\n",
       "       [5.96630573e-03, 1.38556957e-03, 1.01854801e-02],\n",
       "       [1.24621391e-03, 6.65736198e-03, 4.60374355e-03],\n",
       "       [4.14729118e-03, 2.34723091e-04, 1.22404099e-03],\n",
       "       [2.49862671e-03, 4.43100929e-03, 3.06415558e-03],\n",
       "       [7.77566433e-03, 7.38966465e-03, 6.78300858e-03],\n",
       "       [1.04761124e-03, 1.24859810e-03, 1.13105774e-03],\n",
       "       [1.56342983e-03, 5.78403473e-04, 1.82306767e-03],\n",
       "       [6.66856766e-04, 1.47972107e-02, 5.21516800e-03],\n",
       "       [2.54571438e-03, 5.62572479e-03, 1.17125511e-02],\n",
       "       [8.71849060e-03, 7.53760338e-04, 9.30666924e-04],\n",
       "       [5.26392460e-03, 1.78587437e-03, 3.46994400e-03],\n",
       "       [1.49583817e-03, 6.09517097e-04, 4.50885296e-03],\n",
       "       [6.81638718e-04, 1.25169754e-05, 9.98854637e-03],\n",
       "       [1.25074387e-03, 6.74593449e-03, 7.62033463e-03],\n",
       "       [3.44860554e-03, 1.38441324e-02, 6.10923767e-03],\n",
       "       [1.71947479e-03, 1.43706799e-03, 5.49781322e-03],\n",
       "       [1.04713440e-03, 8.18908215e-03, 3.73089314e-03],\n",
       "       [1.47739649e-02, 5.50734997e-03, 3.70383263e-04],\n",
       "       [2.39729881e-04, 1.76429749e-04, 1.25751495e-02],\n",
       "       [3.06034088e-03, 1.45992041e-02, 2.58088112e-03],\n",
       "       [1.72865391e-03, 7.89523125e-03, 8.98516178e-03],\n",
       "       [1.45959854e-03, 5.69605827e-03, 4.93502617e-03],\n",
       "       [7.78198242e-03, 4.80651855e-04, 7.86793232e-03],\n",
       "       [4.53186035e-03, 1.70958042e-03, 3.06761265e-03],\n",
       "       [5.10215759e-05, 7.89093971e-03, 9.40573215e-03],\n",
       "       [1.90520287e-03, 5.60522079e-04, 1.04188919e-03],\n",
       "       [9.78469849e-04, 5.55145741e-03, 6.87658787e-03],\n",
       "       [5.58626652e-03, 2.27224827e-03, 5.31923771e-03],\n",
       "       [3.94833088e-03, 5.28192520e-03, 5.96666336e-03],\n",
       "       [1.70612335e-03, 7.21728802e-03, 2.61918306e-02],\n",
       "       [6.17837906e-03, 3.13663483e-03, 2.10547447e-03],\n",
       "       [3.50713730e-04, 6.56318665e-03, 3.82542610e-04],\n",
       "       [1.17849112e-02, 1.98030472e-03, 4.08601761e-03],\n",
       "       [1.89542770e-04, 4.45485115e-04, 9.61899757e-03],\n",
       "       [4.96554375e-03, 4.47022915e-03, 8.41379166e-04],\n",
       "       [2.72274017e-03, 4.76121902e-04, 1.09672546e-05],\n",
       "       [3.24288607e-02, 5.85544109e-03, 1.07166767e-02],\n",
       "       [2.13277340e-03, 3.75306606e-03, 7.44462013e-04],\n",
       "       [1.51506662e-02, 6.33955002e-04, 3.77917290e-03],\n",
       "       [5.24675846e-03, 2.10320950e-03, 6.45637512e-04],\n",
       "       [6.84988499e-03, 1.36111975e-02, 2.02751160e-03],\n",
       "       [6.84237480e-03, 5.05447388e-04, 1.16456747e-02],\n",
       "       [2.44975090e-04, 3.35323811e-03, 5.94818592e-03],\n",
       "       [4.52244282e-03, 3.04305553e-03, 3.34358215e-03],\n",
       "       [1.46102905e-03, 7.26902485e-03, 1.58574581e-02],\n",
       "       [3.61216068e-03, 1.75710917e-02, 1.60932541e-03],\n",
       "       [6.59358501e-03, 1.75714493e-03, 1.34229660e-03],\n",
       "       [1.46453381e-02, 7.75098801e-04, 2.44426727e-03],\n",
       "       [1.59478188e-03, 2.70891190e-03, 3.74305248e-03],\n",
       "       [1.91652775e-03, 9.61542130e-03, 1.84881687e-03],\n",
       "       [5.15687466e-03, 4.85157967e-03, 1.46031380e-04],\n",
       "       [2.11358070e-04, 5.83505630e-03, 6.27529621e-03],\n",
       "       [9.52303410e-03, 8.57114792e-04, 3.11744213e-03],\n",
       "       [4.13155556e-03, 2.53057480e-03, 3.74078751e-04],\n",
       "       [4.27472591e-03, 8.52918625e-03, 6.47020340e-03],\n",
       "       [1.42431259e-03, 3.01826000e-03, 6.17873669e-03],\n",
       "       [1.22749805e-03, 4.02629375e-03, 2.51793861e-03],\n",
       "       [8.80956650e-04, 6.99520111e-04, 4.78243828e-03],\n",
       "       [1.72163248e-02, 5.13195992e-03, 1.27128363e-02],\n",
       "       [2.68663168e-02, 3.63159180e-03, 2.70605087e-04],\n",
       "       [2.92658806e-04, 1.07877254e-02, 3.61442566e-04],\n",
       "       [1.14679337e-04, 3.36158276e-03, 6.48009777e-03],\n",
       "       [1.05261803e-04, 6.80565834e-04, 1.70302391e-03],\n",
       "       [4.43065166e-03, 1.29222870e-03, 1.39123201e-02],\n",
       "       [5.13434410e-04, 1.85251236e-04, 2.10726261e-03],\n",
       "       [6.29389286e-03, 1.76787376e-04, 2.55453587e-03],\n",
       "       [2.68161297e-03, 4.03404236e-04, 1.82223320e-03],\n",
       "       [2.89678574e-05, 1.99830532e-03, 1.37054920e-03],\n",
       "       [5.29885292e-04, 2.90262699e-03, 1.88863277e-03],\n",
       "       [5.01716137e-03, 6.21914864e-04, 5.11956215e-03],\n",
       "       [1.55878067e-03, 3.33666801e-04, 1.74641609e-03],\n",
       "       [1.54074430e-02, 2.78723240e-03, 1.90114975e-03],\n",
       "       [1.65641308e-03, 1.75714493e-04, 1.52218342e-03],\n",
       "       [5.52213192e-03, 2.59697437e-03, 3.10504436e-03],\n",
       "       [5.09989262e-03, 2.29990482e-03, 7.50219822e-03],\n",
       "       [5.85436821e-04, 1.54531002e-03, 2.09593773e-03],\n",
       "       [1.82509422e-03, 1.20896101e-02, 5.61261177e-03],\n",
       "       [3.68094444e-03, 7.82084465e-03, 5.92947006e-03],\n",
       "       [5.36715984e-03, 1.16539001e-03, 2.83420086e-03],\n",
       "       [3.98600101e-03, 2.20775604e-04, 1.09343529e-02],\n",
       "       [5.74469566e-03, 1.99556351e-04, 9.48476791e-03],\n",
       "       [1.54352188e-03, 3.03363800e-03, 5.51855564e-03],\n",
       "       [1.36649609e-03, 5.49995899e-03, 2.23529339e-03],\n",
       "       [1.21319294e-03, 2.05695629e-03, 4.07576561e-03],\n",
       "       [2.20656395e-03, 9.13953781e-03, 1.44553185e-03],\n",
       "       [2.75254250e-04, 5.39088249e-03, 4.29642200e-03],\n",
       "       [3.69989872e-03, 7.98106194e-04, 6.96897507e-03],\n",
       "       [1.27124786e-03, 5.14876842e-03, 1.01586580e-02],\n",
       "       [9.40096378e-03, 1.86169147e-03, 9.53435898e-04],\n",
       "       [2.97069550e-03, 3.92794609e-04, 2.60519981e-03],\n",
       "       [7.26640224e-03, 2.39887238e-02, 3.29530239e-03],\n",
       "       [4.31501865e-03, 2.43782997e-03, 8.89027119e-03],\n",
       "       [8.01932812e-03, 1.28710270e-03, 1.22196674e-02],\n",
       "       [2.16722488e-04, 2.24304199e-03, 4.28974628e-03],\n",
       "       [3.46422195e-04, 6.75702095e-03, 6.18755817e-03],\n",
       "       [7.15732574e-04, 1.98364258e-04, 4.36890125e-03],\n",
       "       [2.73835659e-03, 4.21190262e-03, 1.81400776e-03],\n",
       "       [7.66038895e-03, 1.70989037e-02, 7.45165348e-03],\n",
       "       [6.97517395e-03, 6.62469864e-03, 4.64773178e-03],\n",
       "       [3.07607651e-03, 4.39167023e-04, 4.50503826e-03],\n",
       "       [7.61783123e-03, 1.21387243e-02, 3.72278690e-03],\n",
       "       [7.76052475e-05, 4.37152386e-03, 2.38084793e-03],\n",
       "       [1.90508366e-03, 3.85522842e-03, 5.00011444e-03],\n",
       "       [2.09343433e-03, 2.89320946e-04, 2.49981880e-04],\n",
       "       [1.14523172e-02, 1.10855103e-02, 5.88655472e-03],\n",
       "       [5.47766685e-03, 1.04796886e-03, 1.21204853e-02],\n",
       "       [9.76800919e-03, 1.52218342e-03, 4.98151779e-03],\n",
       "       [3.23355198e-03, 9.02879238e-03, 7.39777088e-03],\n",
       "       [4.38570976e-04, 1.79243088e-03, 3.46899033e-04],\n",
       "       [1.59192085e-03, 3.87310982e-04, 5.33795357e-03],\n",
       "       [4.43589687e-03, 1.67012215e-04, 8.40902328e-04],\n",
       "       [1.63745880e-03, 4.82761860e-03, 4.44173813e-04],\n",
       "       [3.08275223e-04, 6.07693195e-03, 1.36017799e-03],\n",
       "       [2.12407112e-03, 7.62224197e-04, 7.58850574e-03],\n",
       "       [2.74443626e-03, 1.97832584e-02, 1.03056431e-03],\n",
       "       [1.86443329e-04, 3.82781029e-04, 9.42909718e-03],\n",
       "       [1.11770630e-03, 2.93612480e-04, 7.98094273e-03],\n",
       "       [9.83595848e-04, 1.25050545e-04, 5.87415695e-03],\n",
       "       [1.90007687e-03, 3.67811918e-02, 1.25443935e-02],\n",
       "       [4.34172153e-03, 6.67071342e-03, 4.34827805e-03],\n",
       "       [8.21852684e-03, 1.90162659e-03, 8.33964348e-03],\n",
       "       [1.50357485e-02, 4.26101685e-03, 6.77704811e-04],\n",
       "       [3.81827354e-04, 1.78587437e-03, 9.63211060e-04],\n",
       "       [1.76781416e-02, 1.92141533e-03, 1.34587288e-04],\n",
       "       [5.34415245e-04, 4.35686111e-03, 3.70311737e-03],\n",
       "       [3.65376472e-04, 6.41250610e-03, 3.89218330e-03],\n",
       "       [3.22473049e-03, 2.33042240e-03, 6.32703304e-03],\n",
       "       [1.60861015e-03, 5.17654419e-03, 3.45695019e-03],\n",
       "       [4.41277027e-03, 3.38673592e-03, 1.18950605e-02],\n",
       "       [9.10639763e-04, 2.39968300e-04, 1.30653381e-04],\n",
       "       [1.57951117e-02, 6.52563572e-03, 1.04048252e-02],\n",
       "       [3.04269791e-03, 4.54545021e-04, 2.86877155e-03]], dtype=float32)>"
      ]
     },
     "execution_count": 119,
     "metadata": {},
     "output_type": "execute_result"
    }
   ],
   "source": [
    "# find the minimum along the first axis\n",
    "tf.reduce_min(Q, axis=0)"
   ]
  },
  {
   "cell_type": "code",
   "execution_count": 120,
   "id": "bfc3747a",
   "metadata": {},
   "outputs": [
    {
     "data": {
      "text/plain": [
       "<tf.Tensor: shape=(224, 3), dtype=float32, numpy=\n",
       "array([[0.999496  , 0.9963497 , 0.9888816 ],\n",
       "       [0.9986012 , 0.99141884, 0.9950535 ],\n",
       "       [0.997959  , 0.97667074, 0.9986603 ],\n",
       "       [0.99689543, 0.99890375, 0.9978107 ],\n",
       "       [0.9857353 , 0.9985192 , 0.9993119 ],\n",
       "       [0.9998385 , 0.99915946, 0.99280477],\n",
       "       [0.9994391 , 0.99572384, 0.995831  ],\n",
       "       [0.9947666 , 0.98579705, 0.99513376],\n",
       "       [0.99427724, 0.99754584, 0.9998121 ],\n",
       "       [0.99203503, 0.99756145, 0.9958385 ],\n",
       "       [0.99305665, 0.9890835 , 0.99911284],\n",
       "       [0.9945315 , 0.9968053 , 0.99750936],\n",
       "       [0.99853754, 0.99238455, 0.9903239 ],\n",
       "       [0.9986687 , 0.99331665, 0.9950056 ],\n",
       "       [0.9967083 , 0.9971876 , 0.99862325],\n",
       "       [0.99219584, 0.99877846, 0.98672354],\n",
       "       [0.99661255, 0.9858984 , 0.99987435],\n",
       "       [0.99535847, 0.9920274 , 0.981122  ],\n",
       "       [0.9940791 , 0.9999418 , 0.9879633 ],\n",
       "       [0.991364  , 0.9968468 , 0.9968897 ],\n",
       "       [0.99629796, 0.99595034, 0.99858797],\n",
       "       [0.9934597 , 0.99570584, 0.98894036],\n",
       "       [0.9976789 , 0.9911628 , 0.9986954 ],\n",
       "       [0.9981723 , 0.9990523 , 0.99242616],\n",
       "       [0.99629176, 0.9945804 , 0.9996245 ],\n",
       "       [0.99659777, 0.99410856, 0.995348  ],\n",
       "       [0.99957466, 0.98952603, 0.9991392 ],\n",
       "       [0.9964323 , 0.99633   , 0.99144137],\n",
       "       [0.99744713, 0.9969646 , 0.99996924],\n",
       "       [0.9878205 , 0.99198675, 0.99690163],\n",
       "       [0.99573267, 0.99870825, 0.9992795 ],\n",
       "       [0.9953884 , 0.99932563, 0.99854636],\n",
       "       [0.9986278 , 0.99570847, 0.99906266],\n",
       "       [0.9962895 , 0.9917426 , 0.9947194 ],\n",
       "       [0.99740887, 0.99331725, 0.9933816 ],\n",
       "       [0.9825448 , 0.9985117 , 0.99399936],\n",
       "       [0.9955319 , 0.999298  , 0.99768126],\n",
       "       [0.99714005, 0.9963856 , 0.99340546],\n",
       "       [0.996017  , 0.9968027 , 0.99188733],\n",
       "       [0.99554634, 0.99944484, 0.9975977 ],\n",
       "       [0.99853706, 0.99551415, 0.99260557],\n",
       "       [0.99796045, 0.9987    , 0.9968555 ],\n",
       "       [0.9971522 , 0.98774946, 0.9921597 ],\n",
       "       [0.9972352 , 0.9910464 , 0.9981489 ],\n",
       "       [0.9915706 , 0.9974499 , 0.99537265],\n",
       "       [0.9992931 , 0.9963442 , 0.99757934],\n",
       "       [0.9912224 , 0.9984999 , 0.99960685],\n",
       "       [0.9968374 , 0.9970095 , 0.9939594 ],\n",
       "       [0.99296165, 0.99114275, 0.9976915 ],\n",
       "       [0.9975308 , 0.9993619 , 0.99931955],\n",
       "       [0.9993845 , 0.9989637 , 0.9999902 ],\n",
       "       [0.993034  , 0.9939178 , 0.9977257 ],\n",
       "       [0.99966717, 0.9944737 , 0.99091005],\n",
       "       [0.998911  , 0.98764133, 0.99996555],\n",
       "       [0.9996983 , 0.9968355 , 0.99830925],\n",
       "       [0.9983883 , 0.99983525, 0.9956907 ],\n",
       "       [0.9966997 , 0.9951863 , 0.9985144 ],\n",
       "       [0.9957285 , 0.99774253, 0.9983622 ],\n",
       "       [0.99837434, 0.99625874, 0.9905571 ],\n",
       "       [0.99218357, 0.9991983 , 0.99504256],\n",
       "       [0.9985316 , 0.99493515, 0.99403894],\n",
       "       [0.99515915, 0.99695134, 0.998953  ],\n",
       "       [0.9996135 , 0.9970453 , 0.99337816],\n",
       "       [0.99941504, 0.9998181 , 0.99361753],\n",
       "       [0.9989687 , 0.99621403, 0.99884486],\n",
       "       [0.9915817 , 0.99545276, 0.9985657 ],\n",
       "       [0.9992206 , 0.9956912 , 0.9991609 ],\n",
       "       [0.9982916 , 0.99565065, 0.99869156],\n",
       "       [0.9990282 , 0.9946854 , 0.9981972 ],\n",
       "       [0.99868965, 0.9930589 , 0.9998553 ],\n",
       "       [0.99519694, 0.99552226, 0.99876463],\n",
       "       [0.99181926, 0.98834217, 0.9970342 ],\n",
       "       [0.99996805, 0.9818977 , 0.98934054],\n",
       "       [0.999406  , 0.9931109 , 0.98627114],\n",
       "       [0.9978998 , 0.99968636, 0.99983394],\n",
       "       [0.9941882 , 0.99910605, 0.9998672 ],\n",
       "       [0.9927759 , 0.9981568 , 0.99337757],\n",
       "       [0.9955193 , 0.9989723 , 0.99905074],\n",
       "       [0.99336946, 0.9971491 , 0.9947059 ],\n",
       "       [0.99903965, 0.99644136, 0.9913143 ],\n",
       "       [0.9949714 , 0.99879277, 0.99913955],\n",
       "       [0.999879  , 0.9955015 , 0.9898405 ],\n",
       "       [0.9989413 , 0.9964478 , 0.9809371 ],\n",
       "       [0.9807129 , 0.99262106, 0.99922335],\n",
       "       [0.99215746, 0.99617803, 0.99499893],\n",
       "       [0.9953445 , 0.99945295, 0.9977943 ],\n",
       "       [0.9965056 , 0.9918697 , 0.9888309 ],\n",
       "       [0.97592497, 0.99560356, 0.99507   ],\n",
       "       [0.9968997 , 0.9922464 , 0.9985771 ],\n",
       "       [0.99871993, 0.9964807 , 0.9999443 ],\n",
       "       [0.9992558 , 0.99777913, 0.9917829 ],\n",
       "       [0.9963969 , 0.9993762 , 0.9963081 ],\n",
       "       [0.9984422 , 0.9998369 , 0.9935851 ],\n",
       "       [0.99200416, 0.99678326, 0.9972259 ],\n",
       "       [0.999913  , 0.9996195 , 0.9960319 ],\n",
       "       [0.9975802 , 0.99667406, 0.99417436],\n",
       "       [0.99973166, 0.9996389 , 0.9978404 ],\n",
       "       [0.995095  , 0.9954282 , 0.99164176],\n",
       "       [0.9998696 , 0.9955547 , 0.99519813],\n",
       "       [0.9952936 , 0.99840784, 0.99654603],\n",
       "       [0.997079  , 0.99330866, 0.9993398 ],\n",
       "       [0.99913025, 0.9981898 , 0.9900291 ],\n",
       "       [0.9999763 , 0.99937534, 0.9994538 ],\n",
       "       [0.9980937 , 0.9949479 , 0.99267125],\n",
       "       [0.9995575 , 0.99206066, 0.99755466],\n",
       "       [0.9963517 , 0.9962628 , 0.99570036],\n",
       "       [0.99492955, 0.9995222 , 0.997702  ],\n",
       "       [0.9947927 , 0.99933875, 0.99937093],\n",
       "       [0.9961568 , 0.99790084, 0.99081576],\n",
       "       [0.992705  , 0.9971217 , 0.9953116 ],\n",
       "       [0.9997461 , 0.9987185 , 0.9864806 ],\n",
       "       [0.99443245, 0.9977921 , 0.99397004],\n",
       "       [0.99499834, 0.9979236 , 0.9973072 ],\n",
       "       [0.99913955, 0.9919914 , 0.9861653 ],\n",
       "       [0.9871758 , 0.9979304 , 0.9976386 ],\n",
       "       [0.9890822 , 0.99907684, 0.9930661 ],\n",
       "       [0.9947792 , 0.9996741 , 0.99893737],\n",
       "       [0.9994464 , 0.9937221 , 0.9997617 ],\n",
       "       [0.99801195, 0.99407315, 0.99767995],\n",
       "       [0.9920021 , 0.98950136, 0.9994521 ],\n",
       "       [0.988279  , 0.9984102 , 0.9968568 ],\n",
       "       [0.9965502 , 0.99551237, 0.9943049 ],\n",
       "       [0.9984076 , 0.9982356 , 0.9959017 ],\n",
       "       [0.9933443 , 0.9988357 , 0.99884224],\n",
       "       [0.990088  , 0.99753666, 0.9977304 ],\n",
       "       [0.9938394 , 0.9849535 , 0.99219143],\n",
       "       [0.99645424, 0.9963926 , 0.99885523],\n",
       "       [0.999233  , 0.99988914, 0.98543537],\n",
       "       [0.9987446 , 0.99860084, 0.9958931 ],\n",
       "       [0.986899  , 0.9995916 , 0.99770844],\n",
       "       [0.9925072 , 0.980211  , 0.9986403 ],\n",
       "       [0.9971181 , 0.9987345 , 0.9940791 ],\n",
       "       [0.99962175, 0.9980736 , 0.9883667 ],\n",
       "       [0.997815  , 0.98248506, 0.9991487 ],\n",
       "       [0.9983883 , 0.998487  , 0.98011863],\n",
       "       [0.99916744, 0.9942436 , 0.999076  ],\n",
       "       [0.9968773 , 0.999545  , 0.9964174 ],\n",
       "       [0.9992796 , 0.99481225, 0.99013543],\n",
       "       [0.9870658 , 0.9998313 , 0.9995291 ],\n",
       "       [0.99744666, 0.99727845, 0.9983889 ],\n",
       "       [0.9978399 , 0.98934484, 0.9997735 ],\n",
       "       [0.99234354, 0.994753  , 0.99560356],\n",
       "       [0.9962827 , 0.9982486 , 0.9999541 ],\n",
       "       [0.97920334, 0.9998524 , 0.9969939 ],\n",
       "       [0.9955627 , 0.9947022 , 0.999881  ],\n",
       "       [0.99811625, 0.9987035 , 0.99868274],\n",
       "       [0.9999696 , 0.9932009 , 0.99679756],\n",
       "       [0.9992497 , 0.9961693 , 0.99968374],\n",
       "       [0.9997364 , 0.99933636, 0.9877987 ],\n",
       "       [0.9910121 , 0.99860287, 0.9978161 ],\n",
       "       [0.9967333 , 0.99275506, 0.99088264],\n",
       "       [0.99914396, 0.99427044, 0.9969151 ],\n",
       "       [0.9964814 , 0.99060106, 0.99722624],\n",
       "       [0.9979627 , 0.9995842 , 0.9978887 ],\n",
       "       [0.99322855, 0.9887204 , 0.99981713],\n",
       "       [0.99770224, 0.9945185 , 0.9947617 ],\n",
       "       [0.99611413, 0.99014497, 0.99597216],\n",
       "       [0.99839354, 0.992167  , 0.99665546],\n",
       "       [0.99946916, 0.99502707, 0.98293746],\n",
       "       [0.99610794, 0.9992423 , 0.98806214],\n",
       "       [0.9996023 , 0.99856067, 0.9979577 ],\n",
       "       [0.99837744, 0.9994631 , 0.9988314 ],\n",
       "       [0.99874675, 0.99910593, 0.997558  ],\n",
       "       [0.9973743 , 0.99995816, 0.997355  ],\n",
       "       [0.99481165, 0.9976512 , 0.9976059 ],\n",
       "       [0.99853516, 0.99541926, 0.994786  ],\n",
       "       [0.99538076, 0.9982493 , 0.9982785 ],\n",
       "       [0.97307503, 0.9892218 , 0.9954363 ],\n",
       "       [0.99645555, 0.9986242 , 0.99116695],\n",
       "       [0.9977522 , 0.9949646 , 0.99945307],\n",
       "       [0.97582626, 0.9944676 , 0.9968755 ],\n",
       "       [0.9974116 , 0.99756515, 0.9956249 ],\n",
       "       [0.99362934, 0.99492145, 0.9959537 ],\n",
       "       [0.9821439 , 0.9959414 , 0.9981171 ],\n",
       "       [0.9961066 , 0.9988018 , 0.999771  ],\n",
       "       [0.99411416, 0.9948282 , 0.99201906],\n",
       "       [0.99575436, 0.9968579 , 0.99822295],\n",
       "       [0.9927361 , 0.9988848 , 0.9977958 ],\n",
       "       [0.99864674, 0.99975884, 0.9946575 ],\n",
       "       [0.9956318 , 0.9950123 , 0.99585974],\n",
       "       [0.9983555 , 0.99461675, 0.9937005 ],\n",
       "       [0.99015546, 0.99619997, 0.99705803],\n",
       "       [0.998464  , 0.9962065 , 0.99621093],\n",
       "       [0.9956336 , 0.9982499 , 0.990147  ],\n",
       "       [0.9970175 , 0.9983735 , 0.99803305],\n",
       "       [0.998078  , 0.99599206, 0.9883485 ],\n",
       "       [0.99731076, 0.9992113 , 0.9986298 ],\n",
       "       [0.99916077, 0.993314  , 0.9995111 ],\n",
       "       [0.99782026, 0.9989209 , 0.99571395],\n",
       "       [0.9958116 , 0.99452305, 0.9988768 ],\n",
       "       [0.99463654, 0.99775374, 0.9987112 ],\n",
       "       [0.99628484, 0.9957578 , 0.9881623 ],\n",
       "       [0.9888725 , 0.9942751 , 0.9899864 ],\n",
       "       [0.99925864, 0.9985595 , 0.9999547 ],\n",
       "       [0.99491334, 0.99864566, 0.9800161 ],\n",
       "       [0.99653614, 0.9976399 , 0.99967194],\n",
       "       [0.9990034 , 0.9979043 , 0.9974873 ],\n",
       "       [0.9988198 , 0.9972007 , 0.986892  ],\n",
       "       [0.99901974, 0.99693596, 0.99299455],\n",
       "       [0.9961417 , 0.99361646, 0.99749184],\n",
       "       [0.9983369 , 0.9975369 , 0.9979081 ],\n",
       "       [0.99776876, 0.99586856, 0.9992411 ],\n",
       "       [0.99764955, 0.99638665, 0.99588275],\n",
       "       [0.9997976 , 0.99201214, 0.99969304],\n",
       "       [0.9964781 , 0.9929222 , 0.996344  ],\n",
       "       [0.98395824, 0.99997246, 0.9900353 ],\n",
       "       [0.9989133 , 0.9990125 , 0.9987954 ],\n",
       "       [0.99814713, 0.9997779 , 0.99941623],\n",
       "       [0.99988925, 0.99758923, 0.9977877 ],\n",
       "       [0.99805355, 0.9937248 , 0.99952304],\n",
       "       [0.9983002 , 0.991959  , 0.98603547],\n",
       "       [0.9987576 , 0.9990822 , 0.9972999 ],\n",
       "       [0.9935801 , 0.9998325 , 0.9911002 ],\n",
       "       [0.9879689 , 0.99861014, 0.99835   ],\n",
       "       [0.99895644, 0.9974785 , 0.99693155],\n",
       "       [0.9956746 , 0.99687433, 0.99443877],\n",
       "       [0.9970933 , 0.996642  , 0.99067867],\n",
       "       [0.9986031 , 0.98473835, 0.99992466],\n",
       "       [0.9983411 , 0.9998512 , 0.9978659 ],\n",
       "       [0.9917364 , 0.98279774, 0.9902917 ],\n",
       "       [0.9976356 , 0.99964416, 0.98651433],\n",
       "       [0.98804057, 0.9994633 , 0.993536  ],\n",
       "       [0.9941493 , 0.99956906, 0.9986584 ],\n",
       "       [0.9990926 , 0.98978853, 0.99319077]], dtype=float32)>"
      ]
     },
     "execution_count": 120,
     "metadata": {},
     "output_type": "execute_result"
    }
   ],
   "source": [
    "# find the max along the the first axis\n",
    "tf.reduce_max(Q, axis=0)"
   ]
  },
  {
   "cell_type": "markdown",
   "id": "8658ef33",
   "metadata": {},
   "source": [
    "**8.** Create a tensor with random values of shape `[1, 224, 224, 3]` then squeeze it to change the shape to `[224, 224, 3]`."
   ]
  },
  {
   "cell_type": "code",
   "execution_count": 121,
   "id": "10161a9e",
   "metadata": {},
   "outputs": [
    {
     "data": {
      "text/plain": [
       "<tf.Tensor: shape=(224, 224, 3), dtype=float32, numpy=\n",
       "array([[[8.0315602e-01, 4.9777734e-01, 3.7054038e-01],\n",
       "        [9.1186738e-01, 6.3764203e-01, 1.8209696e-01],\n",
       "        [6.3791955e-01, 2.7701473e-01, 4.2271137e-02],\n",
       "        ...,\n",
       "        [1.0830712e-01, 4.5979273e-01, 2.5716281e-01],\n",
       "        [8.7138689e-01, 1.8434000e-01, 4.4757760e-01],\n",
       "        [7.4110627e-02, 9.0852141e-01, 5.3693414e-01]],\n",
       "\n",
       "       [[5.5596435e-01, 6.8776274e-01, 7.6051474e-02],\n",
       "        [1.6737962e-01, 7.1785092e-01, 2.7642274e-01],\n",
       "        [2.6995218e-01, 3.2203627e-01, 8.8224900e-01],\n",
       "        ...,\n",
       "        [4.8168826e-01, 5.0150025e-01, 8.6756039e-01],\n",
       "        [4.1261053e-01, 1.2770486e-01, 5.8186901e-01],\n",
       "        [2.5495613e-01, 3.9036548e-01, 9.8529553e-01]],\n",
       "\n",
       "       [[8.0935180e-01, 1.9740558e-01, 3.5899937e-01],\n",
       "        [1.1216915e-01, 9.1016293e-04, 3.6382091e-01],\n",
       "        [5.1202202e-01, 3.9188230e-01, 8.8335538e-01],\n",
       "        ...,\n",
       "        [2.0133841e-01, 9.1663551e-01, 1.9890130e-01],\n",
       "        [8.0388057e-01, 3.9227080e-01, 2.9688942e-01],\n",
       "        [8.9319050e-01, 2.9692888e-01, 2.6492047e-01]],\n",
       "\n",
       "       ...,\n",
       "\n",
       "       [[7.3653197e-01, 5.9242892e-01, 8.1022096e-01],\n",
       "        [3.2385099e-01, 9.4225824e-01, 8.4279275e-01],\n",
       "        [5.2548873e-01, 8.8999271e-02, 1.2152910e-01],\n",
       "        ...,\n",
       "        [4.4721401e-01, 2.0952868e-01, 9.3782067e-02],\n",
       "        [5.1644707e-01, 7.4352753e-01, 7.4530303e-01],\n",
       "        [4.3693781e-03, 1.0793984e-01, 1.7783213e-01]],\n",
       "\n",
       "       [[7.6054347e-01, 8.0798697e-01, 3.9492905e-01],\n",
       "        [4.0577006e-01, 9.6265435e-02, 8.8253260e-01],\n",
       "        [6.7700970e-01, 7.8380144e-01, 9.3841922e-01],\n",
       "        ...,\n",
       "        [3.1409883e-01, 2.0651186e-01, 5.1043892e-01],\n",
       "        [6.6967010e-02, 3.1983531e-01, 7.4677360e-01],\n",
       "        [7.0548081e-01, 8.2629704e-01, 7.0540214e-01]],\n",
       "\n",
       "       [[6.4126742e-01, 5.8223104e-01, 5.1815867e-02],\n",
       "        [6.2203467e-01, 5.7224095e-01, 9.0543139e-01],\n",
       "        [9.6411026e-01, 2.6061213e-01, 7.4845552e-02],\n",
       "        ...,\n",
       "        [5.8922923e-01, 1.2655807e-01, 7.0523393e-01],\n",
       "        [9.5485377e-01, 6.6495812e-01, 6.4105380e-01],\n",
       "        [4.4474745e-01, 9.7424459e-01, 9.1788459e-01]]], dtype=float32)>"
      ]
     },
     "execution_count": 121,
     "metadata": {},
     "output_type": "execute_result"
    }
   ],
   "source": [
    "R = tf.constant(tf.random.uniform(shape=[150_528]), shape=(1, 224, 224, 3))\n",
    "R_squeezed = tf.squeeze(R)\n",
    "R_squeezed"
   ]
  },
  {
   "cell_type": "markdown",
   "id": "11288e6c",
   "metadata": {},
   "source": [
    "**9.** Create a tensor with shape `[10]` using your own choice of values, then find the index which has the maximum value."
   ]
  },
  {
   "cell_type": "code",
   "execution_count": 122,
   "id": "a21aa7ef",
   "metadata": {},
   "outputs": [
    {
     "data": {
      "text/plain": [
       "<tf.Tensor: shape=(10,), dtype=float32, numpy=\n",
       "array([9.583183 , 0.1680839, 3.156035 , 1.6013157, 7.148702 , 7.892921 ,\n",
       "       1.1484027, 3.3310425, 2.1091413, 6.23293  ], dtype=float32)>"
      ]
     },
     "execution_count": 122,
     "metadata": {},
     "output_type": "execute_result"
    }
   ],
   "source": [
    "# create tensor\n",
    "S = tf.constant(10*tf.random.uniform(shape=[10]))\n",
    "S"
   ]
  },
  {
   "cell_type": "code",
   "execution_count": 123,
   "id": "17d816fa",
   "metadata": {},
   "outputs": [
    {
     "data": {
      "text/plain": [
       "<tf.Tensor: shape=(), dtype=int64, numpy=0>"
      ]
     },
     "execution_count": 123,
     "metadata": {},
     "output_type": "execute_result"
    }
   ],
   "source": [
    "# find the positional maximum\n",
    "tf.math.argmax(S)"
   ]
  },
  {
   "cell_type": "markdown",
   "id": "da542f3f",
   "metadata": {},
   "source": [
    "**10.** One-hot encode the tensor you created in **9**."
   ]
  },
  {
   "cell_type": "code",
   "execution_count": 124,
   "id": "a4a4b90f",
   "metadata": {
    "scrolled": true
   },
   "outputs": [
    {
     "data": {
      "text/plain": [
       "(<tf.Tensor: shape=(10,), dtype=int32, numpy=array([9, 0, 3, 1, 7, 7, 1, 3, 2, 6], dtype=int32)>,\n",
       " <tf.Tensor: shape=(10, 10), dtype=float32, numpy=\n",
       " array([[0., 0., 0., 0., 0., 0., 0., 0., 0., 1.],\n",
       "        [1., 0., 0., 0., 0., 0., 0., 0., 0., 0.],\n",
       "        [0., 0., 0., 1., 0., 0., 0., 0., 0., 0.],\n",
       "        [0., 1., 0., 0., 0., 0., 0., 0., 0., 0.],\n",
       "        [0., 0., 0., 0., 0., 0., 0., 1., 0., 0.],\n",
       "        [0., 0., 0., 0., 0., 0., 0., 1., 0., 0.],\n",
       "        [0., 1., 0., 0., 0., 0., 0., 0., 0., 0.],\n",
       "        [0., 0., 0., 1., 0., 0., 0., 0., 0., 0.],\n",
       "        [0., 0., 1., 0., 0., 0., 0., 0., 0., 0.],\n",
       "        [0., 0., 0., 0., 0., 0., 1., 0., 0., 0.]], dtype=float32)>)"
      ]
     },
     "execution_count": 124,
     "metadata": {},
     "output_type": "execute_result"
    }
   ],
   "source": [
    "# convert the values of S into type: int32\n",
    "S_int32 = tf.cast(S, dtype=\"int32\")\n",
    "\n",
    "# one-hot the list\n",
    "S_int32_one_hot = tf.one_hot(S_int32, depth=10)\n",
    "\n",
    "S_int32, S_int32_one_hot"
   ]
  },
  {
   "cell_type": "markdown",
   "id": "40262816",
   "metadata": {},
   "source": [
    "# TensorFlow Fundamentals Extra-curriculum"
   ]
  },
  {
   "cell_type": "markdown",
   "id": "d33c248b",
   "metadata": {},
   "source": [
    "* Read though the list of TensorFlow APIs, pick one havent gone through in this notebook, reverse engineer it (write out the documentation code for youself) and figure out what it does. (https://www.tensorflow.org/api_docs/python/)\n",
    "\n",
    "* Try to create a series of tensor functions to calculate your most recent grocery bill (it's okay if you dont use the names of items, just the price in numerical form).\n",
    "    * How would you calculate your grocery bill for the month and for the year using tensors?\n",
    "\n",
    "* Go through the TensorFlow 2.x Quick Start for Beginners tutorial (be sure to type out all of the code yourself, even if you dont understand it).\n",
    "    * are there any functions we used in here that match what's used in there? Which are the same? Which haven't you seen before?\n",
    "    \n",
    "* Watch the video \"What's a tensor?\" - a great visual introduction to many of the concepts we've convered in this notebook.(https://www.youtube.com/watch?v=f5liqUk0ZTw)"
   ]
  },
  {
   "cell_type": "markdown",
   "id": "bdb16258",
   "metadata": {},
   "source": [
    "### Read though the list of TensorFlow APIs, pick one havent gone through in this notebook, reverse engineer it (write out the documentation code for youself) and figure out what it does:(https://www.tensorflow.org/api_docs/python/)\n",
    "\n",
    "I have picked `cumsum`. I picked it becuase it has a hilarious name. \n",
    "\n",
    "To compute the cumulative sum of the tensor `x` along `axis`, you can use the TensorFlow function `tf.cumsum()`."
   ]
  },
  {
   "cell_type": "code",
   "execution_count": 125,
   "id": "e43ff95f",
   "metadata": {},
   "outputs": [
    {
     "data": {
      "text/plain": [
       "(<tf.Tensor: shape=(12,), dtype=float64, numpy=array([ 0.,  1.,  2.,  3.,  4.,  5.,  6.,  7.,  8.,  9., 10., 11.])>,\n",
       " <tf.Tensor: shape=(3, 2, 2), dtype=float32, numpy=\n",
       " array([[[-4.3789043 ,  1.6781845 ],\n",
       "         [-1.7609812 , -1.515728  ]],\n",
       " \n",
       "        [[-0.19414826,  4.8264914 ],\n",
       "         [ 3.1269023 , 13.325119  ]],\n",
       " \n",
       "        [[-2.3185322 , -4.6196594 ],\n",
       "         [-5.0100517 , -9.748539  ]]], dtype=float32)>)"
      ]
     },
     "execution_count": 125,
     "metadata": {},
     "output_type": "execute_result"
    }
   ],
   "source": [
    "# set seed and create a tensor\n",
    "tf.random.set_seed(10)\n",
    "T = tf.constant(np.arange(12.0))\n",
    "U = tf.constant(tf.random.normal(shape=[3, 2, 2], mean=0, stddev=5))\n",
    "T, U"
   ]
  },
  {
   "cell_type": "markdown",
   "id": "9e39feee",
   "metadata": {},
   "source": [
    "By default, this op performs an inclusive sumsum, which means that the first element of the input is identical to the first element of the output. For example:"
   ]
  },
  {
   "cell_type": "code",
   "execution_count": 126,
   "id": "54c6adaa",
   "metadata": {},
   "outputs": [
    {
     "data": {
      "text/plain": [
       "<tf.Tensor: shape=(12,), dtype=float64, numpy=array([ 0.,  1.,  3.,  6., 10., 15., 21., 28., 36., 45., 55., 66.])>"
      ]
     },
     "execution_count": 126,
     "metadata": {},
     "output_type": "execute_result"
    }
   ],
   "source": [
    "# tf.cumsum([a, b, c]) # [a, a+b, a+b+c]\n",
    "tf.cumsum(T)"
   ]
  },
  {
   "cell_type": "code",
   "execution_count": 127,
   "id": "484f9d8c",
   "metadata": {},
   "outputs": [
    {
     "data": {
      "text/plain": [
       "<tf.Tensor: shape=(3, 2, 2), dtype=float32, numpy=\n",
       "array([[[-4.3789043,  1.6781845],\n",
       "        [-1.7609812, -1.515728 ]],\n",
       "\n",
       "       [[-4.5730524,  6.504676 ],\n",
       "        [ 1.3659211, 11.809391 ]],\n",
       "\n",
       "       [[-6.8915844,  1.8850164],\n",
       "        [-3.6441307,  2.060852 ]]], dtype=float32)>"
      ]
     },
     "execution_count": 127,
     "metadata": {},
     "output_type": "execute_result"
    }
   ],
   "source": [
    "# Using varying axis values\n",
    "# axis=0\n",
    "tf.cumsum(U, axis=0)"
   ]
  },
  {
   "cell_type": "code",
   "execution_count": 128,
   "id": "250b5856",
   "metadata": {
    "scrolled": true
   },
   "outputs": [
    {
     "data": {
      "text/plain": [
       "<tf.Tensor: shape=(3, 2, 2), dtype=float32, numpy=\n",
       "array([[[ -4.3789043 ,   1.6781845 ],\n",
       "        [ -6.1398854 ,   0.16245651]],\n",
       "\n",
       "       [[ -0.19414826,   4.8264914 ],\n",
       "        [  2.932754  ,  18.151611  ]],\n",
       "\n",
       "       [[ -2.3185322 ,  -4.6196594 ],\n",
       "        [ -7.3285837 , -14.368198  ]]], dtype=float32)>"
      ]
     },
     "execution_count": 128,
     "metadata": {},
     "output_type": "execute_result"
    }
   ],
   "source": [
    "# Using varying axis values\n",
    "# axis=1\n",
    "tf.cumsum(U, axis=1)"
   ]
  },
  {
   "cell_type": "code",
   "execution_count": 129,
   "id": "37f6f72f",
   "metadata": {
    "scrolled": true
   },
   "outputs": [
    {
     "data": {
      "text/plain": [
       "<tf.Tensor: shape=(3, 2, 2), dtype=float32, numpy=\n",
       "array([[[ -4.3789043 ,  -2.7007198 ],\n",
       "        [ -1.7609812 ,  -3.276709  ]],\n",
       "\n",
       "       [[ -0.19414826,   4.6323433 ],\n",
       "        [  3.1269023 ,  16.45202   ]],\n",
       "\n",
       "       [[ -2.3185322 ,  -6.9381914 ],\n",
       "        [ -5.0100517 , -14.758591  ]]], dtype=float32)>"
      ]
     },
     "execution_count": 129,
     "metadata": {},
     "output_type": "execute_result"
    }
   ],
   "source": [
    "# Using varying axis values\n",
    "# axis=2\n",
    "tf.cumsum(U, axis=2)"
   ]
  },
  {
   "cell_type": "code",
   "execution_count": 130,
   "id": "b60c9ab1",
   "metadata": {},
   "outputs": [
    {
     "data": {
      "text/plain": [
       "<tf.Tensor: shape=(12,), dtype=float64, numpy=array([ 0.,  0.,  1.,  3.,  6., 10., 15., 21., 28., 36., 45., 55.])>"
      ]
     },
     "execution_count": 130,
     "metadata": {},
     "output_type": "execute_result"
    }
   ],
   "source": [
    "# By setting the `exclusive` kwarg to `True`, an exclusive cumsum is performed instead:\n",
    "# tf.cumsum([a, b, c], exclusive=True) => [0, a, a+b]\n",
    "tf.cumsum(T, exclusive=True)"
   ]
  },
  {
   "cell_type": "code",
   "execution_count": 131,
   "id": "97452cd8",
   "metadata": {},
   "outputs": [
    {
     "data": {
      "text/plain": [
       "<tf.Tensor: shape=(12,), dtype=float64, numpy=array([66., 66., 65., 63., 60., 56., 51., 45., 38., 30., 21., 11.])>"
      ]
     },
     "execution_count": 131,
     "metadata": {},
     "output_type": "execute_result"
    }
   ],
   "source": [
    "# By setting the `reverse` kwarg to `True`, the cumsum is performed in the opposite direction:\n",
    "tf.cumsum(T, reverse=True)"
   ]
  },
  {
   "cell_type": "code",
   "execution_count": 132,
   "id": "c7588ce5",
   "metadata": {},
   "outputs": [
    {
     "data": {
      "text/plain": [
       "<tf.Tensor: shape=(12,), dtype=float64, numpy=array([66., 65., 63., 60., 56., 51., 45., 38., 30., 21., 11.,  0.])>"
      ]
     },
     "execution_count": 132,
     "metadata": {},
     "output_type": "execute_result"
    }
   ],
   "source": [
    "# This is more efficient than using separate `tf.reverse` ops. The `reverse` and `exclusive` kwargs can also be combined:\n",
    "# tf.cumsum([a, b, c], exclusive=True, reverse=True) # [b+c, c, 0]\n",
    "tf.cumsum(T, exclusive=True, reverse=True)"
   ]
  },
  {
   "cell_type": "markdown",
   "id": "382d6b98",
   "metadata": {},
   "source": [
    "### Try to create a series of tensor functions to calculate your most recent grocery bill (it's okay if you dont use the names of items, just the price in numerical form).\n",
    "How would you calculate your grocery bill for the month and for the year using tensors?"
   ]
  },
  {
   "cell_type": "code",
   "execution_count": 144,
   "id": "0fa73ef2",
   "metadata": {
    "scrolled": true
   },
   "outputs": [
    {
     "data": {
      "text/plain": [
       "<tf.Tensor: shape=(), dtype=float32, numpy=43.0>"
      ]
     },
     "execution_count": 144,
     "metadata": {},
     "output_type": "execute_result"
    }
   ],
   "source": [
    "# Create a list that holds the prices of each grocery item. The idex of the tensor represents a different grocery item:\n",
    "# [milk=0, eggs=1, bread=2, rice=3, chicken=4, broccoli=5, spinach=6, potatoes=7]\n",
    "price_list = tf.constant([4., 3., 5., 4., 6., 2., 3., 1.]) # 1xn matrix\n",
    "# Create a list that shows which items i have bought. If i buy three cartons of eggs, i must write the egg's index \"1\" into the list three times.\n",
    "inventory = tf.constant([0, 1, 2, 3, 3, 4, 4, 5, 5, 6, 7, 7, 7, 7]) # 1xm matrix\n",
    "# One-hot the inventory list. Make the `depth` of the one-hot to be the length of `price_list`.\n",
    "inventory_one_hot = tf.one_hot(inventory, depth=len(price_list)) # mxn matrix\n",
    "# Reduce sum the one_hot list along the zero axis to get a 1xn matrix\n",
    "inventory_one_hot_reduce_sum = tf.reduce_sum(inventory_one_hot, 0) # 1xn\n",
    "# Do regular multiplication of inventory_one_hot_reduce_sum by price_list to get a 1xn vector. This 1xn vector represents the money spent per item index\n",
    "cost_by_item = price_list * inventory_one_hot_reduce_sum\n",
    "# Reduce sum the cost_by_item vector along the 0-axis to get the total cost\n",
    "total_cost = tf.reduce_sum(cost_by_item)\n",
    "\n",
    "total_cost\n",
    "\n"
   ]
  },
  {
   "cell_type": "markdown",
   "id": "e0c2ece8",
   "metadata": {},
   "source": [
    "### Go through the TensorFlow 2.x Quick Start for Beginners tutorial (be sure to type out all of the code yourself, even if you dont understand it).\n",
    "\n",
    "https://www.tensorflow.org/tutorials/quickstart/beginner\n",
    "\n",
    "Are there any functions we used in here that match what's used in there? Which are the same? Which haven't you seen before?"
   ]
  },
  {
   "cell_type": "markdown",
   "id": "a87cfab5",
   "metadata": {},
   "source": [
    "This short introduction uses `Keras` to:\n",
    "1. Load a prebuilt dataset\n",
    "2. Build a neural network machine learning model that classifies images\n",
    "3. Train this neural network\n",
    "4. Evaluate the accuracy of the model"
   ]
  },
  {
   "cell_type": "markdown",
   "id": "bdb083c2",
   "metadata": {},
   "source": [
    "**Load a dataset**\n",
    "\n",
    "Load and prepare the `MNIST dataset`. Convert the sample data from intigers to floating-point numbers.\n",
    "\n",
    "MNIST dataset:http://yann.lecun.com/exdb/mnist/"
   ]
  },
  {
   "cell_type": "code",
   "execution_count": 146,
   "id": "9a61c1eb",
   "metadata": {},
   "outputs": [],
   "source": [
    "mnist = tf.keras.datasets.mnist\n",
    "\n",
    "(x_train, y_train), (x_test, y_test) = mnist.load_data()\n",
    "x_train, x_test = x_train / 255.0, x_test / 255.0"
   ]
  },
  {
   "cell_type": "markdown",
   "id": "6615f3bf",
   "metadata": {},
   "source": [
    "**Build machine learning model**\n",
    "\n",
    "Build a tf.keras.Sepuencial model by stacking layers."
   ]
  },
  {
   "cell_type": "code",
   "execution_count": 161,
   "id": "9a232d7c",
   "metadata": {},
   "outputs": [],
   "source": [
    "model = tf.keras.models.Sequential([\n",
    "    tf.keras.layers.Flatten(input_shape=(28, 28)),\n",
    "    tf.keras.layers.Dense(128, activation='relu'),\n",
    "    tf.keras.layers.Dropout(0.2),\n",
    "    tf.keras.layers.Dense(10)\n",
    "])"
   ]
  },
  {
   "cell_type": "markdown",
   "id": "c29aac79",
   "metadata": {},
   "source": [
    "For each example, the model returns a vector of logits or log-odds scores, one for each class."
   ]
  },
  {
   "cell_type": "code",
   "execution_count": 162,
   "id": "035cc010",
   "metadata": {
    "scrolled": true
   },
   "outputs": [
    {
     "data": {
      "text/plain": [
       "array([[-0.1983535 ,  0.44595915, -0.1125943 , -0.52204055, -0.40230304,\n",
       "         0.7669983 , -0.3609059 , -0.48670015,  0.74972606, -0.13778731]],\n",
       "      dtype=float32)"
      ]
     },
     "execution_count": 162,
     "metadata": {},
     "output_type": "execute_result"
    }
   ],
   "source": [
    "predictions = model(x_train[:1]).numpy()\n",
    "predictions"
   ]
  },
  {
   "cell_type": "markdown",
   "id": "30451153",
   "metadata": {},
   "source": [
    "The `tf.nn.softmax` function converts these logits to *probabilites* for each class: "
   ]
  },
  {
   "cell_type": "code",
   "execution_count": 163,
   "id": "ab0ab343",
   "metadata": {},
   "outputs": [
    {
     "data": {
      "text/plain": [
       "array([[0.07461811, 0.14212343, 0.08129971, 0.05398445, 0.06085134,\n",
       "        0.19592561, 0.06342327, 0.0559264 , 0.1925706 , 0.07927711]],\n",
       "      dtype=float32)"
      ]
     },
     "execution_count": 163,
     "metadata": {},
     "output_type": "execute_result"
    }
   ],
   "source": [
    "tf.nn.softmax(predictions).numpy()"
   ]
  },
  {
   "cell_type": "markdown",
   "id": "8159c461",
   "metadata": {},
   "source": [
    "**note:** It is possible to bake the tf.nn.softmax function into the activation function for the last layer of the neural network. While this can make the model output more directly interpretable, this approach is discouraged as it's impossible to provide an exact and numerically stable loss calculation for all models when using a softmax output."
   ]
  },
  {
   "cell_type": "markdown",
   "id": "392525e4",
   "metadata": {},
   "source": [
    "Define a loss function for training using `losses.SparaseCategorialCrossentropy`, which takes a vector of logits and a `True` index and returns a scalar loss for each example."
   ]
  },
  {
   "cell_type": "code",
   "execution_count": 164,
   "id": "50939973",
   "metadata": {},
   "outputs": [],
   "source": [
    "loss_fn = tf.keras.losses.SparseCategoricalCrossentropy(from_logits=True)"
   ]
  },
  {
   "cell_type": "markdown",
   "id": "0a550b17",
   "metadata": {},
   "source": [
    "This loss is equal to the negative log probability of the true class: The loss is zero if the model is sure of the correct class.\n",
    "\n",
    "This untrained model gives probabilities close to random (1/10 for each class), so the inital loss should be close to `-tf.math.log(1/10). ~= 2.3`."
   ]
  },
  {
   "cell_type": "code",
   "execution_count": 165,
   "id": "771e6b14",
   "metadata": {},
   "outputs": [
    {
     "data": {
      "text/plain": [
       "1.6300203"
      ]
     },
     "execution_count": 165,
     "metadata": {},
     "output_type": "execute_result"
    }
   ],
   "source": [
    "loss_fn(y_train[:1], predictions).numpy()"
   ]
  },
  {
   "cell_type": "markdown",
   "id": "e0d28254",
   "metadata": {},
   "source": [
    "Before you start training, configure and compile the model using Keras `Model.compile`. Set the `optimizer` class to `adam`, set the `loss` to the `loss_fn` function you defined earlier, and specify a metric to the evaluated for the model by setting the `metrics` parameter to `accuracy`."
   ]
  },
  {
   "cell_type": "code",
   "execution_count": 166,
   "id": "c1077363",
   "metadata": {},
   "outputs": [],
   "source": [
    "model.compile(optimizer='adam',\n",
    "              loss=loss_fn,\n",
    "              metrics=['accuracy'])"
   ]
  },
  {
   "cell_type": "markdown",
   "id": "4929e5ec",
   "metadata": {},
   "source": [
    "**Train and evaluate your model**\n",
    "\n",
    "Use the `Model.fit` method to adjust your model parameters and minimize the loss:"
   ]
  },
  {
   "cell_type": "code",
   "execution_count": 167,
   "id": "2d02f293",
   "metadata": {},
   "outputs": [
    {
     "name": "stdout",
     "output_type": "stream",
     "text": [
      "Epoch 1/5\n",
      "1875/1875 [==============================] - 7s 3ms/step - loss: 0.2956 - accuracy: 0.9151\n",
      "Epoch 2/5\n",
      "1875/1875 [==============================] - 7s 4ms/step - loss: 0.1449 - accuracy: 0.9571\n",
      "Epoch 3/5\n",
      "1875/1875 [==============================] - 7s 4ms/step - loss: 0.1098 - accuracy: 0.9661\n",
      "Epoch 4/5\n",
      "1875/1875 [==============================] - 7s 3ms/step - loss: 0.0881 - accuracy: 0.9735\n",
      "Epoch 5/5\n",
      "1875/1875 [==============================] - 7s 4ms/step - loss: 0.0760 - accuracy: 0.9767\n"
     ]
    },
    {
     "data": {
      "text/plain": [
       "<keras.callbacks.History at 0x7fd583fb72b0>"
      ]
     },
     "execution_count": 167,
     "metadata": {},
     "output_type": "execute_result"
    }
   ],
   "source": [
    "model.fit(x_train, y_train, epochs=5)"
   ]
  },
  {
   "cell_type": "markdown",
   "id": "38f74f6d",
   "metadata": {},
   "source": [
    "The `Model.evaluate` method checks the model's performance, usually on a vaidation set or a test set."
   ]
  },
  {
   "cell_type": "code",
   "execution_count": 168,
   "id": "b1a35f3e",
   "metadata": {},
   "outputs": [
    {
     "name": "stdout",
     "output_type": "stream",
     "text": [
      "313/313 - 1s - loss: 0.0747 - accuracy: 0.9769 - 1s/epoch - 4ms/step\n"
     ]
    },
    {
     "data": {
      "text/plain": [
       "[0.07472169399261475, 0.9768999814987183]"
      ]
     },
     "execution_count": 168,
     "metadata": {},
     "output_type": "execute_result"
    }
   ],
   "source": [
    "model.evaluate(x_test, y_test, verbose=2)"
   ]
  },
  {
   "cell_type": "markdown",
   "id": "5707625b",
   "metadata": {},
   "source": [
    "The image classifier is now trained to ~98% accuracy on this dataset. To learn more read the TensorFlow tutorials. \n",
    "\n",
    "https://www.tensorflow.org/tutorials/"
   ]
  },
  {
   "cell_type": "code",
   "execution_count": 169,
   "id": "8a543e0b",
   "metadata": {},
   "outputs": [],
   "source": [
    "probability_model = tf.keras.Sequential([\n",
    "    model, \n",
    "    tf.keras.layers.Softmax()\n",
    "])"
   ]
  },
  {
   "cell_type": "code",
   "execution_count": 170,
   "id": "a699d5f8",
   "metadata": {
    "scrolled": true
   },
   "outputs": [
    {
     "data": {
      "text/plain": [
       "<tf.Tensor: shape=(5, 10), dtype=float32, numpy=\n",
       "array([[1.5041726e-06, 8.0210514e-09, 1.4703243e-05, 1.7181002e-03,\n",
       "        1.1737996e-09, 4.2345905e-06, 3.2119316e-12, 9.9797541e-01,\n",
       "        3.7829450e-05, 2.4813737e-04],\n",
       "       [5.4151519e-07, 1.2882352e-04, 9.9977046e-01, 9.6545846e-05,\n",
       "        1.6344495e-14, 1.4044363e-06, 1.4563180e-07, 3.8891178e-11,\n",
       "        2.0028260e-06, 2.2588998e-11],\n",
       "       [1.2269422e-07, 9.9808466e-01, 4.4191300e-05, 1.8475812e-05,\n",
       "        2.1572539e-05, 3.9405408e-05, 1.4434773e-05, 4.6893698e-04,\n",
       "        1.3036665e-03, 4.5851548e-06],\n",
       "       [9.9996316e-01, 2.3652227e-10, 1.0130745e-05, 1.1570456e-07,\n",
       "        2.1015985e-07, 1.9682132e-06, 5.3774893e-06, 9.7400357e-07,\n",
       "        6.1535381e-08, 1.7968214e-05],\n",
       "       [1.0320092e-05, 5.9990333e-07, 3.1437590e-05, 6.0595546e-08,\n",
       "        9.9162078e-01, 1.4882390e-07, 1.2255874e-06, 4.8108708e-05,\n",
       "        3.4838413e-07, 8.2870713e-03]], dtype=float32)>"
      ]
     },
     "execution_count": 170,
     "metadata": {},
     "output_type": "execute_result"
    }
   ],
   "source": [
    "probability_model(x_test[:5])"
   ]
  },
  {
   "cell_type": "code",
   "execution_count": null,
   "id": "c954b370",
   "metadata": {},
   "outputs": [],
   "source": []
  }
 ],
 "metadata": {
  "kernelspec": {
   "display_name": "Python 3 (ipykernel)",
   "language": "python",
   "name": "python3"
  },
  "language_info": {
   "codemirror_mode": {
    "name": "ipython",
    "version": 3
   },
   "file_extension": ".py",
   "mimetype": "text/x-python",
   "name": "python",
   "nbconvert_exporter": "python",
   "pygments_lexer": "ipython3",
   "version": "3.9.0"
  }
 },
 "nbformat": 4,
 "nbformat_minor": 5
}
